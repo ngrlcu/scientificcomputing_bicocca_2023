{
 "cells": [
  {
   "cell_type": "markdown",
   "metadata": {},
   "source": [
    "# Exercises\n",
    "\n",
    "For the exam please work on at least 2 of these exercises\n"
   ]
  },
  {
   "cell_type": "markdown",
   "metadata": {},
   "source": [
    "\n",
    "## Q1: Your next research project.\n",
    "\n",
    "Pick the directory of your current research project (your next paper!) and put it under version control.\n"
   ]
  },
  {
   "cell_type": "markdown",
   "metadata": {
    "vscode": {
     "languageId": "plaintext"
    }
   },
   "source": [
    "I put under git the repo of the package deployed in lecture 08 called 'market', here is the link https://github.com/ngrlcu/market "
   ]
  },
  {
   "cell_type": "markdown",
   "metadata": {},
   "source": [
    "\n",
    "## Q2: Egocentric\n",
    "\n",
    "Write a github action that lets you commit only if README.md contains your name."
   ]
  },
  {
   "cell_type": "markdown",
   "metadata": {
    "vscode": {
     "languageId": "plaintext"
    }
   },
   "source": [
    "The action I wrote greps my name from the README file and fail passing if it is not present. See https://github.com/ngrlcu/market/blob/master/.github/workflows/egocentricaction.yml "
   ]
  }
 ],
 "metadata": {
  "kernelspec": {
   "display_name": "Python 3",
   "language": "python",
   "name": "python3"
  },
  "language_info": {
   "name": "python",
   "version": "3.11.6"
  }
 },
 "nbformat": 4,
 "nbformat_minor": 2
}
