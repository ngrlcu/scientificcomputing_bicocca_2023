{
 "cells": [
  {
   "cell_type": "code",
   "execution_count": 1,
   "metadata": {},
   "outputs": [],
   "source": [
    "import numpy as np"
   ]
  },
  {
   "cell_type": "markdown",
   "metadata": {},
   "source": [
    "# Exercises"
   ]
  },
  {
   "cell_type": "markdown",
   "metadata": {},
   "source": [
    "For the exams, prepare 2 of these exercises. Pick the ones you like the most."
   ]
  },
  {
   "cell_type": "markdown",
   "metadata": {},
   "source": [
    "Some  of these come from / are inspired from https://github.com/rougier/numpy-100 and http://www.scipy-lectures.org/intro/numpy/exercises.html"
   ]
  },
  {
   "cell_type": "markdown",
   "metadata": {},
   "source": [
    "## Q1: Fun with arrays\n",
    "\n",
    "**A.**  Create the array: \n",
    "```\n",
    "[[1,  6, 11],\n",
    " [2,  7, 12],\n",
    " [3,  8, 13],\n",
    " [4,  9, 14],\n",
    " [5, 10, 15]]\n",
    "```\n",
    "with out explicitly typing it in.\n",
    "\n",
    "Now create a new array containing only its 2nd and 4th rows.\n",
    "\n",
    "\n",
    "**B.** Create a 2d array with `1` on the border and `0` on the inside, e.g., like:\n",
    "```\n",
    "1 1 1 1 1\n",
    "1 0 0 0 1\n",
    "1 0 0 0 1\n",
    "1 1 1 1 1\n",
    "```\n",
    "\n",
    "Do this using array slice notation to let it work for an arbitrary-sized array"
   ]
  },
  {
   "cell_type": "markdown",
   "metadata": {},
   "source": [
    "#### A"
   ]
  },
  {
   "cell_type": "code",
   "execution_count": 2,
   "metadata": {},
   "outputs": [
    {
     "data": {
      "text/plain": [
       "array([[ 1,  6, 11],\n",
       "       [ 2,  7, 12],\n",
       "       [ 3,  8, 13],\n",
       "       [ 4,  9, 14],\n",
       "       [ 5, 10, 15]])"
      ]
     },
     "execution_count": 2,
     "metadata": {},
     "output_type": "execute_result"
    }
   ],
   "source": [
    "a = np.arange(1,16).reshape((5,3), order='F') # order C, F or A\n",
    "\n",
    "a"
   ]
  },
  {
   "cell_type": "code",
   "execution_count": 3,
   "metadata": {},
   "outputs": [
    {
     "data": {
      "text/plain": [
       "array([[ 2,  7, 12],\n",
       "       [ 4,  9, 14]])"
      ]
     },
     "execution_count": 3,
     "metadata": {},
     "output_type": "execute_result"
    }
   ],
   "source": [
    "new_a = a[1::2]\n",
    "\n",
    "new_a"
   ]
  },
  {
   "cell_type": "markdown",
   "metadata": {},
   "source": [
    "#### B"
   ]
  },
  {
   "cell_type": "code",
   "execution_count": 4,
   "metadata": {},
   "outputs": [
    {
     "data": {
      "text/plain": [
       "array([[1., 1., 1., 1., 1.],\n",
       "       [1., 0., 0., 0., 1.],\n",
       "       [1., 0., 0., 0., 1.],\n",
       "       [1., 1., 1., 1., 1.]])"
      ]
     },
     "execution_count": 4,
     "metadata": {},
     "output_type": "execute_result"
    }
   ],
   "source": [
    "a = np.ones((4,5))\n",
    "a[1:-1,1:-1] = 0\n",
    "a"
   ]
  },
  {
   "cell_type": "markdown",
   "metadata": {},
   "source": [
    "## Q2: Histograms\n",
    "\n",
    "Here we will read in columns of numbers from a file and create a histogram, using NumPy routines.  Make sure you have the data file\n",
    "\"`sample.txt`\" in the same directory as this notebook (you can download it from  https://raw.githubusercontent.com/sbu-python-summer/python-tutorial/master/day-3/sample.txt\n",
    "\n",
    "  * Use `np.loadtxt()` to read this file in.  \n",
    "\n",
    "  * Next, use `np.histogram()` to create a histogram array.  The output returns both the count and an array of edges.\n",
    "  \n",
    "  * Finally, loop over the bins and print out the bin center (averaging the left and right edges of the bin) and the count for that bin."
   ]
  },
  {
   "cell_type": "code",
   "execution_count": 5,
   "metadata": {},
   "outputs": [
    {
     "name": "stdout",
     "output_type": "stream",
     "text": [
      "(100, 2)\n"
     ]
    }
   ],
   "source": [
    "a = np.loadtxt('sample.txt')\n",
    "print(a.shape)\n",
    "counts, bins = np.histogram(a)"
   ]
  },
  {
   "cell_type": "code",
   "execution_count": 6,
   "metadata": {},
   "outputs": [],
   "source": [
    "import time"
   ]
  },
  {
   "cell_type": "code",
   "execution_count": 7,
   "metadata": {},
   "outputs": [
    {
     "name": "stdout",
     "output_type": "stream",
     "text": [
      "8.726119995117188e-05\n"
     ]
    },
    {
     "data": {
      "text/plain": [
       "(array([-30.58842789, -17.6295851 ,  -4.67074231,   8.28810048,\n",
       "         21.24694327,  34.20578606,  47.16462884,  60.12347163,\n",
       "         73.08231442,  86.04115721,  99.        ]),\n",
       " array([-24.10900649, -11.1501637 ,   1.80867908,  14.76752187,\n",
       "         27.72636466,  40.68520745,  53.64405024,  66.60289303,\n",
       "         79.56173582,  92.52057861]),\n",
       " array([ 6, 23, 52, 37, 16, 14, 13, 13, 13, 13]))"
      ]
     },
     "execution_count": 7,
     "metadata": {},
     "output_type": "execute_result"
    }
   ],
   "source": [
    "# using list comprehension\n",
    "t0 = time.time()\n",
    "centered_bins = np.array([(bins[i+1]+bins[i])/2 for i in range(len(bins)-1)])\n",
    "t1 = time.time()\n",
    "print(t1-t0)\n",
    "\n",
    "bins, centered_bins, counts"
   ]
  },
  {
   "cell_type": "code",
   "execution_count": 8,
   "metadata": {},
   "outputs": [
    {
     "name": "stdout",
     "output_type": "stream",
     "text": [
      "0.00010037422180175781\n"
     ]
    },
    {
     "data": {
      "text/plain": [
       "(array([-30.58842789, -17.6295851 ,  -4.67074231,   8.28810048,\n",
       "         21.24694327,  34.20578606,  47.16462884,  60.12347163,\n",
       "         73.08231442,  86.04115721,  99.        ]),\n",
       " array([-24.10900649, -11.1501637 ,   1.80867908,  14.76752187,\n",
       "         27.72636466,  40.68520745,  53.64405024,  66.60289303,\n",
       "         79.56173582,  92.52057861]),\n",
       " array([ 6, 23, 52, 37, 16, 14, 13, 13, 13, 13]))"
      ]
     },
     "execution_count": 8,
     "metadata": {},
     "output_type": "execute_result"
    }
   ],
   "source": [
    "# using slicing\n",
    "t0 = time.time()\n",
    "centered_bins = (bins[1:]+bins[:-1])/2\n",
    "t1 = time.time()\n",
    "print(t1-t0)\n",
    "\n",
    "\n",
    "bins, centered_bins, counts"
   ]
  },
  {
   "cell_type": "markdown",
   "metadata": {},
   "source": [
    "## Q3: Are you faster than numpy?\n",
    "\n",
    "Numpy of course has a standard deviation function, `np.std()`, but here we'll write our own that works on a 1-d array (vector).  The standard\n",
    "deviation is a measure of the \"width\" of the distribution of numbers\n",
    "in the vector.\n",
    "\n",
    "Given an array, $a$, and an average $\\bar{a}$, the standard deviation\n",
    "is:\n",
    "$$\n",
    "\\sigma = \\left [ \\frac{1}{N} \\sum_{i=1}^N (a_i - \\bar{a})^2 \\right ]^{1/2}\n",
    "$$\n",
    "\n",
    "Write a function to calculate the standard deviation for an input array, `a`:\n",
    "\n",
    "  * First compute the average of the elements in `a` to define $\\bar{a}$\n",
    "  * Next compute the sum over the squares of $a - \\bar{a}$\n",
    "  * Then divide the sum by the number of elements in the array\n",
    "  * Finally take the square root (you can use `np.sqrt()`)\n",
    "  \n",
    "Test your function on a random array, and compare to the built-in `np.std()`. Check the runtime as well."
   ]
  },
  {
   "cell_type": "code",
   "execution_count": 49,
   "metadata": {},
   "outputs": [],
   "source": [
    "def mystd(array):\n",
    "    N_inv = 1/len(array) # division is very costly, better do it once\n",
    "    err = a - a.sum()*N_inv\n",
    "    sum_err = (err*err).sum()*N_inv\n",
    "    return np.sqrt(sum_err)\n",
    "\n",
    "def compare_stdevs(initial_size, final_size):\n",
    "\n",
    "    history = []#[\"mystd\", \"numpy\"]\n",
    "    for size in np.arange(initial_size, final_size):\n",
    "    \n",
    "        a = np.random.rand(10**size)\n",
    "\n",
    "        t0 = time.time()\n",
    "        mystdev = mystd(a)\n",
    "        t1 = time.time()\n",
    "        npstdev = np.std(a)\n",
    "        t2 = time.time()\n",
    "\n",
    "        history.append([t1-t0, t2-t1])\n",
    "    return history"
   ]
  },
  {
   "cell_type": "code",
   "execution_count": 54,
   "metadata": {},
   "outputs": [],
   "source": [
    "max = 9\n",
    "history = []\n",
    "for _ in range(100):\n",
    "    history.append(compare_stdevs(1, max))"
   ]
  },
  {
   "cell_type": "code",
   "execution_count": 55,
   "metadata": {},
   "outputs": [
    {
     "name": "stdout",
     "output_type": "stream",
     "text": [
      "[[5.51517564e-05 5.89953529e-05]\n",
      " [1.06108309e-05 1.97911503e-05]\n",
      " [9.24775095e-06 1.86496311e-05]\n",
      " [9.13215406e-06 2.98023224e-05]\n",
      " [1.27879056e-05 1.45880863e-04]\n",
      " [4.97162944e-05 3.57049162e-03]\n",
      " [7.19205298e-05 3.19615301e-02]\n",
      " [7.46587310e-05 3.01523546e-01]]\n"
     ]
    }
   ],
   "source": [
    "h_mean = np.array(history[1:]).mean(axis=0)\n",
    "h_std = np.array(history[1:]).std(axis=0)\n",
    "print(h_mean)"
   ]
  },
  {
   "cell_type": "code",
   "execution_count": 56,
   "metadata": {},
   "outputs": [
    {
     "data": {
      "image/png": "[encoded data removed]",
      "text/plain": [
       "<Figure size 640x480 with 1 Axes>"
      ]
     },
     "metadata": {},
     "output_type": "display_data"
    }
   ],
   "source": [
    "import matplotlib.pyplot as plt\n",
    "\n",
    "x = np.arange(1,max)\n",
    "\n",
    "plt.fill_between(x = 10**x, y1=h_mean[:,0]-h_std[:,0], y2=h_mean[:,0]+h_std[:,0], alpha=0.2)\n",
    "plt.fill_between(x = 10**x, y1=h_mean[:,1]-h_std[:,1], y2=h_mean[:,1]+h_std[:,1], alpha=0.2)\n",
    "\n",
    "plt.loglog(10**x, h_mean, label=[\"mystd\", \"numpy\"])\n",
    "\n",
    "plt.ylabel(\"Computational time (s)\")\n",
    "plt.xlabel(\"Array size\")\n",
    "\n",
    "plt.legend()\n",
    "plt.show()"
   ]
  },
  {
   "cell_type": "markdown",
   "metadata": {},
   "source": [
    "Let's double check"
   ]
  },
  {
   "cell_type": "code",
   "execution_count": 57,
   "metadata": {},
   "outputs": [
    {
     "name": "stdout",
     "output_type": "stream",
     "text": [
      "11.3 µs ± 161 ns per loop (mean ± std. dev. of 7 runs, 100,000 loops each)\n"
     ]
    }
   ],
   "source": [
    "%timeit np.std(a)"
   ]
  },
  {
   "cell_type": "code",
   "execution_count": 58,
   "metadata": {},
   "outputs": [
    {
     "name": "stdout",
     "output_type": "stream",
     "text": [
      "5.16 µs ± 110 ns per loop (mean ± std. dev. of 7 runs, 100,000 loops each)\n"
     ]
    }
   ],
   "source": [
    "%timeit mystd(a)"
   ]
  }
 ],
 "metadata": {
  "kernelspec": {
   "display_name": "Python 3",
   "language": "python",
   "name": "python3"
  },
  "language_info": {
   "codemirror_mode": {
    "name": "ipython",
    "version": 3
   },
   "file_extension": ".py",
   "mimetype": "text/x-python",
   "name": "python",
   "nbconvert_exporter": "python",
   "pygments_lexer": "ipython3",
   "version": "3.11.6"
  }
 },
 "nbformat": 4,
 "nbformat_minor": 2
}
