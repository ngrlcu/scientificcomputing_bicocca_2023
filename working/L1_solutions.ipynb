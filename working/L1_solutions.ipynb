{
 "cells": [
  {
   "cell_type": "markdown",
   "metadata": {},
   "source": [
    "# Exercises\n",
    "\n",
    "Work on those you like the most. For the exam, preparing 2 of these is enough (or 3 if you pick those that are very short)."
   ]
  },
  {
   "cell_type": "markdown",
   "metadata": {},
   "source": [
    "## Q1: Machine precision\n",
    "\n",
    "When talking about floating point, we discussed _machine epsilon_, $\\epsilon$&mdash;this is the smallest number that when added to 1 is still different from 1.\n",
    "\n",
    "We'll compute $\\epsilon$ here:\n",
    "\n",
    "  * Pick an initial guess for $\\epsilon$ of `eps = 1`.  \n",
    "\n",
    "  * Create a loop that checks whether `1 + eps` is different from `1`\n",
    "  \n",
    "  * Each loop iteration, cut the value of `eps` in half\n",
    "  \n",
    "What value of $\\epsilon$ do you find?\n",
    "\n"
   ]
  },
  {
   "cell_type": "code",
   "execution_count": 1,
   "metadata": {},
   "outputs": [
    {
     "data": {
      "text/plain": [
       "1.1102230246251565e-16"
      ]
     },
     "execution_count": 1,
     "metadata": {},
     "output_type": "execute_result"
    }
   ],
   "source": [
    "eps = 1\n",
    "while (1+eps) != 1:\n",
    "    eps /= 2\n",
    "eps"
   ]
  },
  {
   "cell_type": "markdown",
   "metadata": {},
   "source": [
    "## Q2: Iterations\n",
    "\n",
    "### Part 1\n",
    "\n",
    "To iterate over the tuples, where the _i_-th tuple contains the _i_-th elements of certain sequences, we can use `zip(*sequences)` function.\n",
    "\n",
    "We will iterate over two lists, `names` and `age`, and print out the resulting tuples.\n",
    "\n",
    "  * Start by initializing lists `names = [\"Mary\", \"John\", \"Sarah\"]` and `age = [21, 56, 98]`.\n",
    "  \n",
    "  * Iterate over the tuples containing a name and an age, the `zip(list1, list2)` function might be useful here.\n",
    "  \n",
    "  * Print out formatted strings of the type \"*NAME is AGE years old*\".\n",
    "  \n",
    "\n",
    "### Part 2\n",
    "\n",
    "The function `enumerate(sequence)` returns tuples containing indices of objects in the sequence, and the objects. \n",
    "\n",
    "The `random` module provides tools for working with the random numbers. In particular, `random.randint(start, end)` generates a random number not smaller than `start`, and not bigger than `end`.\n",
    "\n",
    "  * Generate a list of 10 random numbers from 0 to 9.\n",
    "  \n",
    "  * Using the `enumerate(random_list)` function, iterate over the tuples of random numbers and their indices, and print out *\"Match: NUMBER and INDEX\"* if the random number and its index in the list match."
   ]
  },
  {
   "cell_type": "code",
   "execution_count": 2,
   "metadata": {},
   "outputs": [
    {
     "name": "stdout",
     "output_type": "stream",
     "text": [
      "Mary is 21 years old\n",
      "John is 56 years old\n",
      "Sarah is 98 years old\n"
     ]
    }
   ],
   "source": [
    "names = [\"Mary\", \"John\", \"Sarah\"]\n",
    "ages = [21, 56, 98]\n",
    "\n",
    "for name, age in zip(names, ages):\n",
    "    print(f\"{name} is {age} years old\")"
   ]
  },
  {
   "cell_type": "code",
   "execution_count": 4,
   "metadata": {},
   "outputs": [
    {
     "name": "stdout",
     "output_type": "stream",
     "text": [
      "Match: 3 and 3\n",
      "Match: 9 and 9\n"
     ]
    }
   ],
   "source": [
    "import random \n",
    "\n",
    "random.seed(42)\n",
    "random_list = [random.randint(0,9) for _ in range(10)]\n",
    "\n",
    "for idx, number in enumerate(random_list):\n",
    "    if idx == number:\n",
    "        print(f\"Match: {number} and {idx}\")"
   ]
  },
  {
   "cell_type": "markdown",
   "metadata": {},
   "source": [
    "## Q3: Books\n",
    "\n",
    "Here is a list of book titles (from http://thegreatestbooks.org).  Loop through the list and capitalize each word in each title. "
   ]
  },
  {
   "cell_type": "code",
   "execution_count": 5,
   "metadata": {},
   "outputs": [],
   "source": [
    "titles = [\"don quixote\", \n",
    "          \"in search of lost time\", \n",
    "          \"ulysses\", \n",
    "          \"the odyssey\", \n",
    "          \"war and piece\", \n",
    "          \"moby dick\", \n",
    "          \"the divine comedy\", \n",
    "          \"hamlet\", \n",
    "          \"the adventures of huckleberry finn\", \n",
    "          \"the great gatsby\"]"
   ]
  },
  {
   "cell_type": "code",
   "execution_count": 6,
   "metadata": {},
   "outputs": [
    {
     "data": {
      "text/plain": [
       "['DON QUIXOTE',\n",
       " 'IN SEARCH OF LOST TIME',\n",
       " 'ULYSSES',\n",
       " 'THE ODYSSEY',\n",
       " 'WAR AND PIECE',\n",
       " 'MOBY DICK',\n",
       " 'THE DIVINE COMEDY',\n",
       " 'HAMLET',\n",
       " 'THE ADVENTURES OF HUCKLEBERRY FINN',\n",
       " 'THE GREAT GATSBY']"
      ]
     },
     "execution_count": 6,
     "metadata": {},
     "output_type": "execute_result"
    }
   ],
   "source": [
    "TITLES = [book.upper() for book in titles]\n",
    "TITLES"
   ]
  },
  {
   "cell_type": "code",
   "execution_count": 7,
   "metadata": {},
   "outputs": [
    {
     "data": {
      "text/plain": [
       "['Don quixote',\n",
       " 'In search of lost time',\n",
       " 'Ulysses',\n",
       " 'The odyssey',\n",
       " 'War and piece',\n",
       " 'Moby dick',\n",
       " 'The divine comedy',\n",
       " 'Hamlet',\n",
       " 'The adventures of huckleberry finn',\n",
       " 'The great gatsby']"
      ]
     },
     "execution_count": 7,
     "metadata": {},
     "output_type": "execute_result"
    }
   ],
   "source": [
    "Titles = [book[0].upper()+book[1:] for book in titles]\n",
    "Titles"
   ]
  },
  {
   "cell_type": "markdown",
   "metadata": {},
   "source": [
    "## Q4: Word counts\n",
    "\n",
    "Here's some text (the Gettysburg Address).  Our goal is to count how many times each word repeats.  We'll do a brute force method first, and then we'll look a ways to do it more efficiently (and compactly)."
   ]
  },
  {
   "cell_type": "code",
   "execution_count": 8,
   "metadata": {},
   "outputs": [],
   "source": [
    "gettysburg_address = \"\"\"\n",
    "Four score and seven years ago our fathers brought forth on this continent, \n",
    "a new nation, conceived in Liberty, and dedicated to the proposition that \n",
    "all men are created equal.\n",
    "\n",
    "Now we are engaged in a great civil war, testing whether that nation, or \n",
    "any nation so conceived and so dedicated, can long endure. We are met on\n",
    "a great battle-field of that war. We have come to dedicate a portion of\n",
    "that field, as a final resting place for those who here gave their lives\n",
    "that that nation might live. It is altogether fitting and proper that we\n",
    "should do this.\n",
    "\n",
    "But, in a larger sense, we can not dedicate -- we can not consecrate -- we\n",
    "can not hallow -- this ground. The brave men, living and dead, who struggled\n",
    "here, have consecrated it, far above our poor power to add or detract.  The\n",
    "world will little note, nor long remember what we say here, but it can never\n",
    "forget what they did here. It is for us the living, rather, to be dedicated\n",
    "here to the unfinished work which they who fought here have thus far so nobly\n",
    "advanced. It is rather for us to be here dedicated to the great task remaining\n",
    "before us -- that from these honored dead we take increased devotion to that\n",
    "cause for which they gave the last full measure of devotion -- that we here\n",
    "highly resolve that these dead shall not have died in vain -- that this\n",
    "nation, under God, shall have a new birth of freedom -- and that government\n",
    "of the people, by the people, for the people, shall not perish from the earth.\n",
    "\"\"\""
   ]
  },
  {
   "cell_type": "markdown",
   "metadata": {},
   "source": [
    "We've already seen the `.split()` method will, by default, split by spaces, so it will split this into words, producing a list:"
   ]
  },
  {
   "cell_type": "code",
   "execution_count": 9,
   "metadata": {},
   "outputs": [],
   "source": [
    "ga = gettysburg_address.split()"
   ]
  },
  {
   "cell_type": "code",
   "execution_count": 10,
   "metadata": {},
   "outputs": [
    {
     "data": {
      "text/plain": [
       "['Four',\n",
       " 'score',\n",
       " 'and',\n",
       " 'seven',\n",
       " 'years',\n",
       " 'ago',\n",
       " 'our',\n",
       " 'fathers',\n",
       " 'brought',\n",
       " 'forth',\n",
       " 'on',\n",
       " 'this',\n",
       " 'continent,',\n",
       " 'a',\n",
       " 'new',\n",
       " 'nation,',\n",
       " 'conceived',\n",
       " 'in',\n",
       " 'Liberty,',\n",
       " 'and',\n",
       " 'dedicated',\n",
       " 'to',\n",
       " 'the',\n",
       " 'proposition',\n",
       " 'that',\n",
       " 'all',\n",
       " 'men',\n",
       " 'are',\n",
       " 'created',\n",
       " 'equal.',\n",
       " 'Now',\n",
       " 'we',\n",
       " 'are',\n",
       " 'engaged',\n",
       " 'in',\n",
       " 'a',\n",
       " 'great',\n",
       " 'civil',\n",
       " 'war,',\n",
       " 'testing',\n",
       " 'whether',\n",
       " 'that',\n",
       " 'nation,',\n",
       " 'or',\n",
       " 'any',\n",
       " 'nation',\n",
       " 'so',\n",
       " 'conceived',\n",
       " 'and',\n",
       " 'so',\n",
       " 'dedicated,',\n",
       " 'can',\n",
       " 'long',\n",
       " 'endure.',\n",
       " 'We',\n",
       " 'are',\n",
       " 'met',\n",
       " 'on',\n",
       " 'a',\n",
       " 'great',\n",
       " 'battle-field',\n",
       " 'of',\n",
       " 'that',\n",
       " 'war.',\n",
       " 'We',\n",
       " 'have',\n",
       " 'come',\n",
       " 'to',\n",
       " 'dedicate',\n",
       " 'a',\n",
       " 'portion',\n",
       " 'of',\n",
       " 'that',\n",
       " 'field,',\n",
       " 'as',\n",
       " 'a',\n",
       " 'final',\n",
       " 'resting',\n",
       " 'place',\n",
       " 'for',\n",
       " 'those',\n",
       " 'who',\n",
       " 'here',\n",
       " 'gave',\n",
       " 'their',\n",
       " 'lives',\n",
       " 'that',\n",
       " 'that',\n",
       " 'nation',\n",
       " 'might',\n",
       " 'live.',\n",
       " 'It',\n",
       " 'is',\n",
       " 'altogether',\n",
       " 'fitting',\n",
       " 'and',\n",
       " 'proper',\n",
       " 'that',\n",
       " 'we',\n",
       " 'should',\n",
       " 'do',\n",
       " 'this.',\n",
       " 'But,',\n",
       " 'in',\n",
       " 'a',\n",
       " 'larger',\n",
       " 'sense,',\n",
       " 'we',\n",
       " 'can',\n",
       " 'not',\n",
       " 'dedicate',\n",
       " '--',\n",
       " 'we',\n",
       " 'can',\n",
       " 'not',\n",
       " 'consecrate',\n",
       " '--',\n",
       " 'we',\n",
       " 'can',\n",
       " 'not',\n",
       " 'hallow',\n",
       " '--',\n",
       " 'this',\n",
       " 'ground.',\n",
       " 'The',\n",
       " 'brave',\n",
       " 'men,',\n",
       " 'living',\n",
       " 'and',\n",
       " 'dead,',\n",
       " 'who',\n",
       " 'struggled',\n",
       " 'here,',\n",
       " 'have',\n",
       " 'consecrated',\n",
       " 'it,',\n",
       " 'far',\n",
       " 'above',\n",
       " 'our',\n",
       " 'poor',\n",
       " 'power',\n",
       " 'to',\n",
       " 'add',\n",
       " 'or',\n",
       " 'detract.',\n",
       " 'The',\n",
       " 'world',\n",
       " 'will',\n",
       " 'little',\n",
       " 'note,',\n",
       " 'nor',\n",
       " 'long',\n",
       " 'remember',\n",
       " 'what',\n",
       " 'we',\n",
       " 'say',\n",
       " 'here,',\n",
       " 'but',\n",
       " 'it',\n",
       " 'can',\n",
       " 'never',\n",
       " 'forget',\n",
       " 'what',\n",
       " 'they',\n",
       " 'did',\n",
       " 'here.',\n",
       " 'It',\n",
       " 'is',\n",
       " 'for',\n",
       " 'us',\n",
       " 'the',\n",
       " 'living,',\n",
       " 'rather,',\n",
       " 'to',\n",
       " 'be',\n",
       " 'dedicated',\n",
       " 'here',\n",
       " 'to',\n",
       " 'the',\n",
       " 'unfinished',\n",
       " 'work',\n",
       " 'which',\n",
       " 'they',\n",
       " 'who',\n",
       " 'fought',\n",
       " 'here',\n",
       " 'have',\n",
       " 'thus',\n",
       " 'far',\n",
       " 'so',\n",
       " 'nobly',\n",
       " 'advanced.',\n",
       " 'It',\n",
       " 'is',\n",
       " 'rather',\n",
       " 'for',\n",
       " 'us',\n",
       " 'to',\n",
       " 'be',\n",
       " 'here',\n",
       " 'dedicated',\n",
       " 'to',\n",
       " 'the',\n",
       " 'great',\n",
       " 'task',\n",
       " 'remaining',\n",
       " 'before',\n",
       " 'us',\n",
       " '--',\n",
       " 'that',\n",
       " 'from',\n",
       " 'these',\n",
       " 'honored',\n",
       " 'dead',\n",
       " 'we',\n",
       " 'take',\n",
       " 'increased',\n",
       " 'devotion',\n",
       " 'to',\n",
       " 'that',\n",
       " 'cause',\n",
       " 'for',\n",
       " 'which',\n",
       " 'they',\n",
       " 'gave',\n",
       " 'the',\n",
       " 'last',\n",
       " 'full',\n",
       " 'measure',\n",
       " 'of',\n",
       " 'devotion',\n",
       " '--',\n",
       " 'that',\n",
       " 'we',\n",
       " 'here',\n",
       " 'highly',\n",
       " 'resolve',\n",
       " 'that',\n",
       " 'these',\n",
       " 'dead',\n",
       " 'shall',\n",
       " 'not',\n",
       " 'have',\n",
       " 'died',\n",
       " 'in',\n",
       " 'vain',\n",
       " '--',\n",
       " 'that',\n",
       " 'this',\n",
       " 'nation,',\n",
       " 'under',\n",
       " 'God,',\n",
       " 'shall',\n",
       " 'have',\n",
       " 'a',\n",
       " 'new',\n",
       " 'birth',\n",
       " 'of',\n",
       " 'freedom',\n",
       " '--',\n",
       " 'and',\n",
       " 'that',\n",
       " 'government',\n",
       " 'of',\n",
       " 'the',\n",
       " 'people,',\n",
       " 'by',\n",
       " 'the',\n",
       " 'people,',\n",
       " 'for',\n",
       " 'the',\n",
       " 'people,',\n",
       " 'shall',\n",
       " 'not',\n",
       " 'perish',\n",
       " 'from',\n",
       " 'the',\n",
       " 'earth.']"
      ]
     },
     "execution_count": 10,
     "metadata": {},
     "output_type": "execute_result"
    }
   ],
   "source": [
    "ga"
   ]
  },
  {
   "cell_type": "markdown",
   "metadata": {},
   "source": [
    "Now, the next problem is that some of these still have punctuation.  In particular, we see \"`.`\", \"`,`\", and \"`--`\".\n",
    "\n",
    "When considering a word, we can get rid of these by using the `replace()` method:"
   ]
  },
  {
   "cell_type": "code",
   "execution_count": 11,
   "metadata": {},
   "outputs": [
    {
     "data": {
      "text/plain": [
       "'end'"
      ]
     },
     "execution_count": 11,
     "metadata": {},
     "output_type": "execute_result"
    }
   ],
   "source": [
    "a = \"end.,\"\n",
    "b = a.replace(\".\", \"\").replace(\",\", \"\")\n",
    "b"
   ]
  },
  {
   "cell_type": "markdown",
   "metadata": {},
   "source": [
    "Another problem is case&mdash;we want to count \"but\" and \"But\" as the same.  Strings have a `lower()` method that can be used to convert a string:"
   ]
  },
  {
   "cell_type": "code",
   "execution_count": 12,
   "metadata": {},
   "outputs": [
    {
     "data": {
      "text/plain": [
       "False"
      ]
     },
     "execution_count": 12,
     "metadata": {},
     "output_type": "execute_result"
    }
   ],
   "source": [
    "a = \"But\"\n",
    "b = \"but\"\n",
    "a == b"
   ]
  },
  {
   "cell_type": "code",
   "execution_count": 13,
   "metadata": {},
   "outputs": [
    {
     "data": {
      "text/plain": [
       "True"
      ]
     },
     "execution_count": 13,
     "metadata": {},
     "output_type": "execute_result"
    }
   ],
   "source": [
    "a.lower() == b.lower()"
   ]
  },
  {
   "cell_type": "markdown",
   "metadata": {},
   "source": [
    "Recall that strings are immutable, so `replace()` produces a new string on output."
   ]
  },
  {
   "cell_type": "markdown",
   "metadata": {},
   "source": [
    "### Your task\n",
    "\n",
    "Create a dictionary that uses the unique words as keys and has as a value the number of times that word appears.  \n",
    "\n",
    "Write a loop over the words in the string (using our split version) and do the following:\n",
    "  * remove any punctuation\n",
    "  * convert to lowercase\n",
    "  * test if the word is already a key in the dictionary (using the `in` operator)\n",
    "     - if the key exists, increment the word count for that key\n",
    "     - otherwise, add it to the dictionary with the appropriate count of `1`.\n",
    "\n",
    "At the end, print out the words and a count of how many times they appear"
   ]
  },
  {
   "cell_type": "code",
   "execution_count": 14,
   "metadata": {},
   "outputs": [
    {
     "data": {
      "text/plain": [
       "{'four': 1,\n",
       " 'score': 1,\n",
       " 'and': 6,\n",
       " 'seven': 1,\n",
       " 'years': 1,\n",
       " 'ago': 1,\n",
       " 'our': 2,\n",
       " 'fathers': 1,\n",
       " 'brought': 1,\n",
       " 'forth': 1,\n",
       " 'on': 2,\n",
       " 'this': 4,\n",
       " 'continent': 1,\n",
       " 'a': 7,\n",
       " 'new': 2,\n",
       " 'nation': 5,\n",
       " 'conceived': 2,\n",
       " 'in': 4,\n",
       " 'liberty': 1,\n",
       " 'dedicated': 4,\n",
       " 'to': 8,\n",
       " 'the': 11,\n",
       " 'proposition': 1,\n",
       " 'that': 13,\n",
       " 'all': 1,\n",
       " 'men': 2,\n",
       " 'are': 3,\n",
       " 'created': 1,\n",
       " 'equal': 1,\n",
       " 'now': 1,\n",
       " 'we': 10,\n",
       " 'engaged': 1,\n",
       " 'great': 3,\n",
       " 'civil': 1,\n",
       " 'war': 2,\n",
       " 'testing': 1,\n",
       " 'whether': 1,\n",
       " 'or': 2,\n",
       " 'any': 1,\n",
       " 'so': 3,\n",
       " 'can': 5,\n",
       " 'long': 2,\n",
       " 'endure': 1,\n",
       " 'met': 1,\n",
       " 'battle-field': 1,\n",
       " 'of': 5,\n",
       " 'have': 5,\n",
       " 'come': 1,\n",
       " 'dedicate': 2,\n",
       " 'portion': 1,\n",
       " 'field': 1,\n",
       " 'as': 1,\n",
       " 'final': 1,\n",
       " 'resting': 1,\n",
       " 'place': 1,\n",
       " 'for': 5,\n",
       " 'those': 1,\n",
       " 'who': 3,\n",
       " 'here': 8,\n",
       " 'gave': 2,\n",
       " 'their': 1,\n",
       " 'lives': 1,\n",
       " 'might': 1,\n",
       " 'live': 1,\n",
       " 'it': 5,\n",
       " 'is': 3,\n",
       " 'altogether': 1,\n",
       " 'fitting': 1,\n",
       " 'proper': 1,\n",
       " 'should': 1,\n",
       " 'do': 1,\n",
       " 'but': 2,\n",
       " 'larger': 1,\n",
       " 'sense': 1,\n",
       " 'not': 5,\n",
       " '--': 7,\n",
       " 'consecrate': 1,\n",
       " 'hallow': 1,\n",
       " 'ground': 1,\n",
       " 'brave': 1,\n",
       " 'living': 2,\n",
       " 'dead': 3,\n",
       " 'struggled': 1,\n",
       " 'consecrated': 1,\n",
       " 'far': 2,\n",
       " 'above': 1,\n",
       " 'poor': 1,\n",
       " 'power': 1,\n",
       " 'add': 1,\n",
       " 'detract': 1,\n",
       " 'world': 1,\n",
       " 'will': 1,\n",
       " 'little': 1,\n",
       " 'note': 1,\n",
       " 'nor': 1,\n",
       " 'remember': 1,\n",
       " 'what': 2,\n",
       " 'say': 1,\n",
       " 'never': 1,\n",
       " 'forget': 1,\n",
       " 'they': 3,\n",
       " 'did': 1,\n",
       " 'us': 3,\n",
       " 'rather': 2,\n",
       " 'be': 2,\n",
       " 'unfinished': 1,\n",
       " 'work': 1,\n",
       " 'which': 2,\n",
       " 'fought': 1,\n",
       " 'thus': 1,\n",
       " 'nobly': 1,\n",
       " 'advanced': 1,\n",
       " 'task': 1,\n",
       " 'remaining': 1,\n",
       " 'before': 1,\n",
       " 'from': 2,\n",
       " 'these': 2,\n",
       " 'honored': 1,\n",
       " 'take': 1,\n",
       " 'increased': 1,\n",
       " 'devotion': 2,\n",
       " 'cause': 1,\n",
       " 'last': 1,\n",
       " 'full': 1,\n",
       " 'measure': 1,\n",
       " 'highly': 1,\n",
       " 'resolve': 1,\n",
       " 'shall': 3,\n",
       " 'died': 1,\n",
       " 'vain': 1,\n",
       " 'under': 1,\n",
       " 'god': 1,\n",
       " 'birth': 1,\n",
       " 'freedom': 1,\n",
       " 'government': 1,\n",
       " 'people': 3,\n",
       " 'by': 1,\n",
       " 'perish': 1,\n",
       " 'earth': 1}"
      ]
     },
     "execution_count": 14,
     "metadata": {},
     "output_type": "execute_result"
    }
   ],
   "source": [
    "token_list = gettysburg_address.split()\n",
    "token_dict = {}\n",
    "for token in token_list:\n",
    "    key = token.replace('.', \"\").replace(',', \"\").lower()\n",
    "    if key not in token_dict.keys():\n",
    "        token_dict[key] = 1\n",
    "    else:\n",
    "        token_dict[key] += 1\n",
    "\n",
    "token_dict\n",
    "    "
   ]
  },
  {
   "cell_type": "markdown",
   "metadata": {},
   "source": [
    "### More compact way\n",
    "\n",
    "We can actually do this a lot more compactly by using another list comprehensions and another python datatype called a set.  A set is a group of items, where each item is unique (e.g., no repetitions)."
   ]
  },
  {
   "cell_type": "markdown",
   "metadata": {},
   "source": [
    "Here's a list comprehension that removes all the punctuation and converts to lower case:"
   ]
  },
  {
   "cell_type": "code",
   "execution_count": 15,
   "metadata": {},
   "outputs": [],
   "source": [
    "words = [q.lower().replace(\".\", \"\").replace(\",\", \"\") for q in ga]"
   ]
  },
  {
   "cell_type": "markdown",
   "metadata": {},
   "source": [
    "and by using the `set()` function, we turn the list into a set, removing any duplicates:"
   ]
  },
  {
   "cell_type": "code",
   "execution_count": 16,
   "metadata": {},
   "outputs": [],
   "source": [
    "unique_words = set(words)"
   ]
  },
  {
   "cell_type": "markdown",
   "metadata": {},
   "source": [
    "now we can loop over the unique words and use the `count` method of a list to find how many there are"
   ]
  },
  {
   "cell_type": "code",
   "execution_count": 17,
   "metadata": {},
   "outputs": [
    {
     "data": {
      "text/plain": [
       "{'dedicated': 4,\n",
       " 'increased': 1,\n",
       " 'by': 1,\n",
       " 'have': 5,\n",
       " 'power': 1,\n",
       " 'fitting': 1,\n",
       " 'of': 5,\n",
       " 'new': 2,\n",
       " 'engaged': 1,\n",
       " 'living': 2,\n",
       " 'on': 2,\n",
       " 'far': 2,\n",
       " 'seven': 1,\n",
       " 'continent': 1,\n",
       " 'honored': 1,\n",
       " 'who': 3,\n",
       " 'might': 1,\n",
       " 'met': 1,\n",
       " 'nor': 1,\n",
       " 'what': 2,\n",
       " 'final': 1,\n",
       " 'us': 3,\n",
       " 'fathers': 1,\n",
       " 'thus': 1,\n",
       " 'proposition': 1,\n",
       " 'civil': 1,\n",
       " 'this': 4,\n",
       " 'the': 11,\n",
       " 'fought': 1,\n",
       " 'but': 2,\n",
       " 'poor': 1,\n",
       " 'remember': 1,\n",
       " 'portion': 1,\n",
       " 'will': 1,\n",
       " 'say': 1,\n",
       " 'in': 4,\n",
       " 'vain': 1,\n",
       " 'field': 1,\n",
       " 'sense': 1,\n",
       " 'measure': 1,\n",
       " 'any': 1,\n",
       " 'is': 3,\n",
       " 'not': 5,\n",
       " 'endure': 1,\n",
       " 'freedom': 1,\n",
       " 'their': 1,\n",
       " 'we': 10,\n",
       " 'unfinished': 1,\n",
       " 'consecrated': 1,\n",
       " 'lives': 1,\n",
       " 'people': 3,\n",
       " 'now': 1,\n",
       " 'as': 1,\n",
       " 'struggled': 1,\n",
       " 'forget': 1,\n",
       " 'proper': 1,\n",
       " 'consecrate': 1,\n",
       " 'government': 1,\n",
       " 'live': 1,\n",
       " 'add': 1,\n",
       " 'under': 1,\n",
       " 'years': 1,\n",
       " 'place': 1,\n",
       " '--': 7,\n",
       " 'never': 1,\n",
       " 'nobly': 1,\n",
       " 'score': 1,\n",
       " 'equal': 1,\n",
       " 'devotion': 2,\n",
       " 'last': 1,\n",
       " 'a': 7,\n",
       " 'war': 2,\n",
       " 'little': 1,\n",
       " 'here': 8,\n",
       " 'battle-field': 1,\n",
       " 'are': 3,\n",
       " 'god': 1,\n",
       " 'remaining': 1,\n",
       " 'take': 1,\n",
       " 'four': 1,\n",
       " 'be': 2,\n",
       " 'for': 5,\n",
       " 'larger': 1,\n",
       " 'note': 1,\n",
       " 'dedicate': 2,\n",
       " 'brave': 1,\n",
       " 'before': 1,\n",
       " 'they': 3,\n",
       " 'created': 1,\n",
       " 'from': 2,\n",
       " 'and': 6,\n",
       " 'above': 1,\n",
       " 'ago': 1,\n",
       " 'these': 2,\n",
       " 'it': 5,\n",
       " 'detract': 1,\n",
       " 'ground': 1,\n",
       " 'perish': 1,\n",
       " 'so': 3,\n",
       " 'that': 13,\n",
       " 'should': 1,\n",
       " 'cause': 1,\n",
       " 'world': 1,\n",
       " 'did': 1,\n",
       " 'forth': 1,\n",
       " 'brought': 1,\n",
       " 'altogether': 1,\n",
       " 'work': 1,\n",
       " 'gave': 2,\n",
       " 'nation': 5,\n",
       " 'whether': 1,\n",
       " 'testing': 1,\n",
       " 'which': 2,\n",
       " 'dead': 3,\n",
       " 'all': 1,\n",
       " 'do': 1,\n",
       " 'great': 3,\n",
       " 'come': 1,\n",
       " 'birth': 1,\n",
       " 'men': 2,\n",
       " 'rather': 2,\n",
       " 'advanced': 1,\n",
       " 'can': 5,\n",
       " 'or': 2,\n",
       " 'task': 1,\n",
       " 'died': 1,\n",
       " 'to': 8,\n",
       " 'shall': 3,\n",
       " 'long': 2,\n",
       " 'hallow': 1,\n",
       " 'highly': 1,\n",
       " 'resolve': 1,\n",
       " 'conceived': 2,\n",
       " 'liberty': 1,\n",
       " 'resting': 1,\n",
       " 'full': 1,\n",
       " 'earth': 1,\n",
       " 'our': 2,\n",
       " 'those': 1}"
      ]
     },
     "execution_count": 17,
     "metadata": {},
     "output_type": "execute_result"
    }
   ],
   "source": [
    "count = {}\n",
    "for uw in unique_words:\n",
    "    count[uw] = words.count(uw)\n",
    "    \n",
    "count"
   ]
  },
  {
   "cell_type": "markdown",
   "metadata": {},
   "source": [
    "Even shorter -- we can use a dictionary comprehension, like a list comprehension"
   ]
  },
  {
   "cell_type": "code",
   "execution_count": 18,
   "metadata": {},
   "outputs": [],
   "source": [
    "c = {uw: count[uw] for uw in unique_words}"
   ]
  },
  {
   "cell_type": "code",
   "execution_count": 19,
   "metadata": {},
   "outputs": [
    {
     "data": {
      "text/plain": [
       "{'dedicated': 4,\n",
       " 'increased': 1,\n",
       " 'by': 1,\n",
       " 'have': 5,\n",
       " 'power': 1,\n",
       " 'fitting': 1,\n",
       " 'of': 5,\n",
       " 'new': 2,\n",
       " 'engaged': 1,\n",
       " 'living': 2,\n",
       " 'on': 2,\n",
       " 'far': 2,\n",
       " 'seven': 1,\n",
       " 'continent': 1,\n",
       " 'honored': 1,\n",
       " 'who': 3,\n",
       " 'might': 1,\n",
       " 'met': 1,\n",
       " 'nor': 1,\n",
       " 'what': 2,\n",
       " 'final': 1,\n",
       " 'us': 3,\n",
       " 'fathers': 1,\n",
       " 'thus': 1,\n",
       " 'proposition': 1,\n",
       " 'civil': 1,\n",
       " 'this': 4,\n",
       " 'the': 11,\n",
       " 'fought': 1,\n",
       " 'but': 2,\n",
       " 'poor': 1,\n",
       " 'remember': 1,\n",
       " 'portion': 1,\n",
       " 'will': 1,\n",
       " 'say': 1,\n",
       " 'in': 4,\n",
       " 'vain': 1,\n",
       " 'field': 1,\n",
       " 'sense': 1,\n",
       " 'measure': 1,\n",
       " 'any': 1,\n",
       " 'is': 3,\n",
       " 'not': 5,\n",
       " 'endure': 1,\n",
       " 'freedom': 1,\n",
       " 'their': 1,\n",
       " 'we': 10,\n",
       " 'unfinished': 1,\n",
       " 'consecrated': 1,\n",
       " 'lives': 1,\n",
       " 'people': 3,\n",
       " 'now': 1,\n",
       " 'as': 1,\n",
       " 'struggled': 1,\n",
       " 'forget': 1,\n",
       " 'proper': 1,\n",
       " 'consecrate': 1,\n",
       " 'government': 1,\n",
       " 'live': 1,\n",
       " 'add': 1,\n",
       " 'under': 1,\n",
       " 'years': 1,\n",
       " 'place': 1,\n",
       " '--': 7,\n",
       " 'never': 1,\n",
       " 'nobly': 1,\n",
       " 'score': 1,\n",
       " 'equal': 1,\n",
       " 'devotion': 2,\n",
       " 'last': 1,\n",
       " 'a': 7,\n",
       " 'war': 2,\n",
       " 'little': 1,\n",
       " 'here': 8,\n",
       " 'battle-field': 1,\n",
       " 'are': 3,\n",
       " 'god': 1,\n",
       " 'remaining': 1,\n",
       " 'take': 1,\n",
       " 'four': 1,\n",
       " 'be': 2,\n",
       " 'for': 5,\n",
       " 'larger': 1,\n",
       " 'note': 1,\n",
       " 'dedicate': 2,\n",
       " 'brave': 1,\n",
       " 'before': 1,\n",
       " 'they': 3,\n",
       " 'created': 1,\n",
       " 'from': 2,\n",
       " 'and': 6,\n",
       " 'above': 1,\n",
       " 'ago': 1,\n",
       " 'these': 2,\n",
       " 'it': 5,\n",
       " 'detract': 1,\n",
       " 'ground': 1,\n",
       " 'perish': 1,\n",
       " 'so': 3,\n",
       " 'that': 13,\n",
       " 'should': 1,\n",
       " 'cause': 1,\n",
       " 'world': 1,\n",
       " 'did': 1,\n",
       " 'forth': 1,\n",
       " 'brought': 1,\n",
       " 'altogether': 1,\n",
       " 'work': 1,\n",
       " 'gave': 2,\n",
       " 'nation': 5,\n",
       " 'whether': 1,\n",
       " 'testing': 1,\n",
       " 'which': 2,\n",
       " 'dead': 3,\n",
       " 'all': 1,\n",
       " 'do': 1,\n",
       " 'great': 3,\n",
       " 'come': 1,\n",
       " 'birth': 1,\n",
       " 'men': 2,\n",
       " 'rather': 2,\n",
       " 'advanced': 1,\n",
       " 'can': 5,\n",
       " 'or': 2,\n",
       " 'task': 1,\n",
       " 'died': 1,\n",
       " 'to': 8,\n",
       " 'shall': 3,\n",
       " 'long': 2,\n",
       " 'hallow': 1,\n",
       " 'highly': 1,\n",
       " 'resolve': 1,\n",
       " 'conceived': 2,\n",
       " 'liberty': 1,\n",
       " 'resting': 1,\n",
       " 'full': 1,\n",
       " 'earth': 1,\n",
       " 'our': 2,\n",
       " 'those': 1}"
      ]
     },
     "execution_count": 19,
     "metadata": {},
     "output_type": "execute_result"
    }
   ],
   "source": [
    "c"
   ]
  },
  {
   "cell_type": "markdown",
   "metadata": {},
   "source": [
    "## Q5: Foxes and dogs\n",
    "\n",
    "### Part 1. Short words\n",
    "\n",
    "Let's practice functions.  Here's a simple function that takes a string and returns a list of all the 4 letter words:"
   ]
  },
  {
   "cell_type": "code",
   "execution_count": 20,
   "metadata": {},
   "outputs": [],
   "source": [
    "def four_letter_words(message):\n",
    "    words = message.split()\n",
    "    four_letters = [w for w in words if len(w) == 4]\n",
    "    return four_letters"
   ]
  },
  {
   "cell_type": "code",
   "execution_count": 21,
   "metadata": {},
   "outputs": [
    {
     "name": "stdout",
     "output_type": "stream",
     "text": [
      "['over', 'lazy']\n"
     ]
    }
   ],
   "source": [
    "message = \"The quick brown fox jumps over the lazy dog\"\n",
    "print(four_letter_words(message))"
   ]
  },
  {
   "cell_type": "markdown",
   "metadata": {},
   "source": [
    "Write a version of this function that takes a second argument, n, that is the word length we want to search for"
   ]
  },
  {
   "cell_type": "code",
   "execution_count": 22,
   "metadata": {},
   "outputs": [],
   "source": [
    "def n_letter_words(message, length):\n",
    "    words = message.split()\n",
    "    n_letters = [w for w in words if len(w) == length]\n",
    "    return n_letters"
   ]
  },
  {
   "cell_type": "code",
   "execution_count": 23,
   "metadata": {},
   "outputs": [
    {
     "name": "stdout",
     "output_type": "stream",
     "text": [
      "['The', 'fox', 'the', 'dog']\n"
     ]
    }
   ],
   "source": [
    "message = \"The quick brown fox jumps over the lazy dog\"\n",
    "print(n_letter_words(message, 3))"
   ]
  },
  {
   "cell_type": "markdown",
   "metadata": {},
   "source": [
    "### Part 2: Panagrams\n",
    "\n",
    "A _panagram_ is a sentence that includes all 26 letters of the alphabet, e.g., \"_The quick brown fox jumps over the lazy dog_.\"\n",
    "\n",
    "Write a function that takes as an argument a sentence and returns `True` or `False`, indicating whether the sentence is a panagram."
   ]
  },
  {
   "cell_type": "code",
   "execution_count": 24,
   "metadata": {},
   "outputs": [],
   "source": [
    "def is_panagram(message):\n",
    "    alphabet = \"qwertyuiopasdfghjklzxcvbnm\"\n",
    "    for letter in alphabet:\n",
    "        if letter not in message:\n",
    "            return False\n",
    "        else: continue\n",
    "    return True"
   ]
  },
  {
   "cell_type": "code",
   "execution_count": 25,
   "metadata": {},
   "outputs": [
    {
     "data": {
      "text/plain": [
       "False"
      ]
     },
     "execution_count": 25,
     "metadata": {},
     "output_type": "execute_result"
    }
   ],
   "source": [
    "is_panagram(\"Hello world!\")"
   ]
  },
  {
   "cell_type": "code",
   "execution_count": 26,
   "metadata": {},
   "outputs": [
    {
     "data": {
      "text/plain": [
       "True"
      ]
     },
     "execution_count": 26,
     "metadata": {},
     "output_type": "execute_result"
    }
   ],
   "source": [
    "is_panagram(message)"
   ]
  },
  {
   "cell_type": "markdown",
   "metadata": {},
   "source": [
    "## Q6: Cath errors"
   ]
  },
  {
   "cell_type": "markdown",
   "metadata": {},
   "source": [
    "We want to safely convert a string into a float, int, or leave it as a string, depending on its contents.  As we've already seen, python provides `float()` and `int()` functions for this:"
   ]
  },
  {
   "cell_type": "code",
   "execution_count": 27,
   "metadata": {},
   "outputs": [
    {
     "name": "stdout",
     "output_type": "stream",
     "text": [
      "2.0 <class 'float'>\n"
     ]
    }
   ],
   "source": [
    "a = \"2.0\"\n",
    "b = float(a)\n",
    "print(b, type(b))"
   ]
  },
  {
   "cell_type": "markdown",
   "metadata": {},
   "source": [
    "But these throw exceptions if the conversion is not possible"
   ]
  },
  {
   "cell_type": "code",
   "execution_count": 28,
   "metadata": {},
   "outputs": [],
   "source": [
    "a = \"this is a string\"\n",
    "#b = float(a)"
   ]
  },
  {
   "cell_type": "code",
   "execution_count": 29,
   "metadata": {},
   "outputs": [],
   "source": [
    "a = \"1.2345\"\n",
    "#b = int(a)\n",
    "#print(b, type(b))"
   ]
  },
  {
   "cell_type": "code",
   "execution_count": 30,
   "metadata": {},
   "outputs": [
    {
     "name": "stdout",
     "output_type": "stream",
     "text": [
      "1.2345 <class 'float'>\n"
     ]
    }
   ],
   "source": [
    "b = float(a)\n",
    "print(b, type(b))"
   ]
  },
  {
   "cell_type": "markdown",
   "metadata": {},
   "source": [
    "Notice that an int can be converted to a float, but if you convert a float to an int, you risk losing significant digits.  A string cannot be converted to either.\n",
    "\n",
    "### Your task\n",
    "\n",
    "Write a function, `convert_type(a)` that takes a string `a`, and converts it to a float if it is a number with a decimal point, an int if it is an integer, or leaves it as a string otherwise, and returns the result.  You'll want to use exceptions to prevent the code from aborting."
   ]
  },
  {
   "cell_type": "code",
   "execution_count": 31,
   "metadata": {},
   "outputs": [],
   "source": [
    "def convert_type(a):\n",
    "    try:\n",
    "        tmp = float(a)\n",
    "        if tmp==int(tmp):\n",
    "            return int(tmp)\n",
    "        else:\n",
    "            return tmp\n",
    "    except:\n",
    "        return a"
   ]
  },
  {
   "cell_type": "code",
   "execution_count": 32,
   "metadata": {},
   "outputs": [
    {
     "name": "stdout",
     "output_type": "stream",
     "text": [
      "<class 'float'>\n",
      "<class 'str'>\n",
      "<class 'int'>\n"
     ]
    }
   ],
   "source": [
    "print(type(convert_type(\"2.78\")))\n",
    "print(type(convert_type(\"Hello\")))\n",
    "print(type(convert_type(\"2.0\")))"
   ]
  },
  {
   "cell_type": "markdown",
   "metadata": {},
   "source": [
    "## Q7: Tic-tac-toe\n",
    "\n",
    "Here we'll write a simple tic-tac-toe game that 2 players can play.  First we'll create a string that represents our game board:"
   ]
  },
  {
   "cell_type": "code",
   "execution_count": 33,
   "metadata": {},
   "outputs": [],
   "source": [
    "board = \"\"\"\n",
    " {s1:^3} | {s2:^3} | {s3:^3}\n",
    "-----+-----+-----\n",
    " {s4:^3} | {s5:^3} | {s6:^3}\n",
    "-----+-----+-----      123\n",
    " {s7:^3} | {s8:^3} | {s9:^3}       456\n",
    "                       789  \n",
    "\"\"\""
   ]
  },
  {
   "cell_type": "markdown",
   "metadata": {},
   "source": [
    "This board will look a little funny if we just print it&mdash;the spacing is set to look right when we replace the `{}` with `x` or `o`"
   ]
  },
  {
   "cell_type": "code",
   "execution_count": 34,
   "metadata": {},
   "outputs": [
    {
     "name": "stdout",
     "output_type": "stream",
     "text": [
      "\n",
      " {s1:^3} | {s2:^3} | {s3:^3}\n",
      "-----+-----+-----\n",
      " {s4:^3} | {s5:^3} | {s6:^3}\n",
      "-----+-----+-----      123\n",
      " {s7:^3} | {s8:^3} | {s9:^3}       456\n",
      "                       789  \n",
      "\n"
     ]
    }
   ],
   "source": [
    "print(board)"
   ]
  },
  {
   "cell_type": "markdown",
   "metadata": {},
   "source": [
    "and well use a dictionary to denote the status of each square, \"x\", \"o\", or empty, \"\""
   ]
  },
  {
   "cell_type": "code",
   "execution_count": 35,
   "metadata": {},
   "outputs": [
    {
     "data": {
      "text/plain": [
       "{'s1': '',\n",
       " 's2': '',\n",
       " 's3': '',\n",
       " 's4': '',\n",
       " 's5': '',\n",
       " 's6': '',\n",
       " 's7': '',\n",
       " 's8': '',\n",
       " 's9': ''}"
      ]
     },
     "execution_count": 35,
     "metadata": {},
     "output_type": "execute_result"
    }
   ],
   "source": [
    "play = {}\n",
    "\n",
    "def initialize_board(play):\n",
    "    for n in range(9):\n",
    "        play[\"s{}\".format(n+1)] = \"\"\n",
    "\n",
    "initialize_board(play)\n",
    "play"
   ]
  },
  {
   "cell_type": "markdown",
   "metadata": {},
   "source": [
    "Note that our `{}` placeholders in the `board` string have identifiers (the numbers in the `{}`).  We can use these to match the variables we want to print to the placeholder in the string, regardless of the order in the `format()`"
   ]
  },
  {
   "cell_type": "code",
   "execution_count": 36,
   "metadata": {},
   "outputs": [
    {
     "data": {
      "text/plain": [
       "'2 1'"
      ]
     },
     "execution_count": 36,
     "metadata": {},
     "output_type": "execute_result"
    }
   ],
   "source": [
    "a = \"{s1:} {s2:}\".format(s2=1, s1=2)\n",
    "a"
   ]
  },
  {
   "cell_type": "markdown",
   "metadata": {},
   "source": [
    "Here's an easy way to add the values of our dictionary to the appropriate squares in our game board.  First note that each of the {} is labeled with a number that matches the keys in our dictionary.  Python provides a way to unpack a dictionary into labeled arguments, using **\n",
    "\n",
    "This lets us to write a function to show the tic-tac-toe board."
   ]
  },
  {
   "cell_type": "code",
   "execution_count": 37,
   "metadata": {},
   "outputs": [
    {
     "name": "stdout",
     "output_type": "stream",
     "text": [
      "\n",
      "     |     |    \n",
      "-----+-----+-----\n",
      "     |     |    \n",
      "-----+-----+-----      123\n",
      "     |     |           456\n",
      "                       789  \n",
      "\n"
     ]
    }
   ],
   "source": [
    "def show_board(play):\n",
    "    \"\"\" display the playing board.  We take a dictionary with the current state of the board\n",
    "    We rely on the board string to be a global variable\"\"\"\n",
    "    print(board.format(**play))\n",
    "    \n",
    "show_board(play)"
   ]
  },
  {
   "cell_type": "markdown",
   "metadata": {},
   "source": [
    "Now we need a function that asks a player for a move:"
   ]
  },
  {
   "cell_type": "code",
   "execution_count": 38,
   "metadata": {},
   "outputs": [],
   "source": [
    "def get_move(n, xo, play):\n",
    "    \"\"\" ask the current player, n, to make a move -- make sure the square was not \n",
    "        already played.  xo is a string of the character (x or o) we will place in\n",
    "        the desired square \"\"\"\n",
    "    valid_move = False\n",
    "    while not valid_move:\n",
    "        idx = input(\"player {}, enter your move (1-9)\".format(n))\n",
    "        if play[\"s{}\".format(idx)] == \"\":\n",
    "            valid_move = True\n",
    "        else:\n",
    "            print(\"invalid: {}\".format(play[\"s{}\".format(idx)]))\n",
    "            \n",
    "    play[\"s{}\".format(idx)] = xo"
   ]
  },
  {
   "cell_type": "code",
   "execution_count": 39,
   "metadata": {},
   "outputs": [
    {
     "name": "stdout",
     "output_type": "stream",
     "text": [
      "Help on function get_move in module __main__:\n",
      "\n",
      "get_move(n, xo, play)\n",
      "    ask the current player, n, to make a move -- make sure the square was not \n",
      "    already played.  xo is a string of the character (x or o) we will place in\n",
      "    the desired square\n",
      "\n"
     ]
    }
   ],
   "source": [
    "help(get_move)"
   ]
  },
  {
   "cell_type": "markdown",
   "metadata": {},
   "source": [
    "### Your task\n",
    "\n",
    "Using the functions defined above,\n",
    "  * `initialize_board()`\n",
    "  * `show_board()`\n",
    "  * `get_move()`\n",
    "\n",
    "fill in the function `play_game()` below to complete the game, asking for the moves one at a time, alternating between player 1 and 2"
   ]
  },
  {
   "cell_type": "code",
   "execution_count": 70,
   "metadata": {},
   "outputs": [],
   "source": [
    "def check_winning_condition(play):\n",
    "    \"\"\" checks whether there are three equal characters in a row, column or diagonal \"\"\"\n",
    "    for i in range(3):\n",
    "\n",
    "        # horizontal winning conditions\n",
    "        if play[f\"s{3*i+1}\"] == play[f\"s{3*i+2}\"] == play[f\"s{3*i+3}\"] == 'x':\n",
    "            print(\"Player 1 is the WINNER!\")\n",
    "            return True\n",
    "        elif play[f\"s{3*i+1}\"] == play[f\"s{3*i+2}\"] == play[f\"s{3*i+3}\"] == 'o':\n",
    "            print(\"Player 2 is the WINNER!\")\n",
    "            return True   \n",
    "        \n",
    "        # vertical winning conditions\n",
    "        if play[f\"s{i+1}\"] == play[f\"s{i+4}\"] == play[f\"s{i+7}\"] == \"x\":\n",
    "            print(\"Player 1 is the WINNER!\")\n",
    "            return True\n",
    "        elif play[f\"s{i+1}\"] == play[f\"s{i+4}\"] == play[f\"s{i+7}\"] == \"o\":\n",
    "            print(\"Player 2 is the WINNER!\")\n",
    "            return True\n",
    "        \n",
    "    # diagonal winning conditions\n",
    "    if play[f\"s1\"] == play[f\"s5\"] == play[f\"s9\"] == \"x\" or play[f\"s3\"] == play[f\"s5\"] == play[f\"s7\"] == \"x\":\n",
    "        print(\"Player 1 is the WINNER!\")\n",
    "        return True\n",
    "    if play[f\"s1\"] == play[f\"s5\"] == play[f\"s9\"] == \"o\" or play[f\"s3\"] == play[f\"s5\"] == play[f\"s7\"] == \"o\":\n",
    "        print(\"Player 2 is the WINNER!\")\n",
    "        return True\n",
    "        \n",
    "    return False"
   ]
  },
  {
   "cell_type": "code",
   "execution_count": 71,
   "metadata": {},
   "outputs": [],
   "source": [
    "def play_game():\n",
    "    \"\"\" play a game of tic-tac-toe \"\"\"\n",
    "    end_game = False\n",
    "    play ={}\n",
    "    initialize_board(play)\n",
    "    player = 0\n",
    "    moves = \"xo\"\n",
    "    while not end_game:\n",
    "        i = player%2\n",
    "        get_move(i, moves[i], play)\n",
    "        show_board(play)\n",
    "        player += 1\n",
    "        end_game = check_winning_condition(play)"
   ]
  },
  {
   "cell_type": "code",
   "execution_count": 72,
   "metadata": {},
   "outputs": [
    {
     "name": "stdout",
     "output_type": "stream",
     "text": [
      "\n",
      "  x  |     |    \n",
      "-----+-----+-----\n",
      "     |     |    \n",
      "-----+-----+-----      123\n",
      "     |     |           456\n",
      "                       789  \n",
      "\n",
      "\n",
      "  x  |  o  |    \n",
      "-----+-----+-----\n",
      "     |     |    \n",
      "-----+-----+-----      123\n",
      "     |     |           456\n",
      "                       789  \n",
      "\n",
      "\n",
      "  x  |  o  |    \n",
      "-----+-----+-----\n",
      "     |  x  |    \n",
      "-----+-----+-----      123\n",
      "     |     |           456\n",
      "                       789  \n",
      "\n",
      "\n",
      "  x  |  o  |    \n",
      "-----+-----+-----\n",
      "     |  x  |  o \n",
      "-----+-----+-----      123\n",
      "     |     |           456\n",
      "                       789  \n",
      "\n",
      "\n",
      "  x  |  o  |    \n",
      "-----+-----+-----\n",
      "     |  x  |  o \n",
      "-----+-----+-----      123\n",
      "     |     |  x        456\n",
      "                       789  \n",
      "\n",
      "Player 1 is the WINNER!\n"
     ]
    }
   ],
   "source": [
    "play_game()"
   ]
  },
  {
   "cell_type": "markdown",
   "metadata": {},
   "source": [
    "## Q8: Shopping cart"
   ]
  },
  {
   "cell_type": "markdown",
   "metadata": {},
   "source": [
    "Let's write a simple shopping cart class -- this will hold items that you intend to purchase as well as the amount, etc.  And allow you to add / remove items, get a subtotal, etc.\n",
    "\n",
    "We'll use two classes: `Item` will be a single item and `ShoppingCart` will be the collection of items you wish to purchase.\n",
    "\n",
    "First, our store needs an inventory -- here's what we have for sale:"
   ]
  },
  {
   "cell_type": "code",
   "execution_count": 43,
   "metadata": {},
   "outputs": [],
   "source": [
    "INVENTORY_TEXT = \"\"\"\n",
    "apple, 0.60\n",
    "banana, 0.20\n",
    "grapefruit, 0.75\n",
    "grapes, 1.99\n",
    "kiwi, 0.50\n",
    "lemon, 0.20\n",
    "lime, 0.25\n",
    "mango, 1.50\n",
    "papaya, 2.95\n",
    "pineapple, 3.50\n",
    "blueberries, 1.99\n",
    "blackberries, 2.50\n",
    "peach, 0.50\n",
    "plum, 0.33\n",
    "clementine, 0.25\n",
    "cantaloupe, 3.25\n",
    "pear, 1.25\n",
    "quince, 0.45\n",
    "orange, 0.60\n",
    "\"\"\"\n",
    "\n",
    "# this will be a global -- convention is all caps\n",
    "INVENTORY = {}\n",
    "for line in INVENTORY_TEXT.splitlines():\n",
    "    if line.strip() == \"\":\n",
    "        continue\n",
    "    item, price = line.split(\",\")\n",
    "    INVENTORY[item] = float(price)\n"
   ]
  },
  {
   "cell_type": "code",
   "execution_count": 44,
   "metadata": {},
   "outputs": [
    {
     "data": {
      "text/plain": [
       "{'apple': 0.6,\n",
       " 'banana': 0.2,\n",
       " 'grapefruit': 0.75,\n",
       " 'grapes': 1.99,\n",
       " 'kiwi': 0.5,\n",
       " 'lemon': 0.2,\n",
       " 'lime': 0.25,\n",
       " 'mango': 1.5,\n",
       " 'papaya': 2.95,\n",
       " 'pineapple': 3.5,\n",
       " 'blueberries': 1.99,\n",
       " 'blackberries': 2.5,\n",
       " 'peach': 0.5,\n",
       " 'plum': 0.33,\n",
       " 'clementine': 0.25,\n",
       " 'cantaloupe': 3.25,\n",
       " 'pear': 1.25,\n",
       " 'quince': 0.45,\n",
       " 'orange': 0.6}"
      ]
     },
     "execution_count": 44,
     "metadata": {},
     "output_type": "execute_result"
    }
   ],
   "source": [
    "INVENTORY"
   ]
  },
  {
   "cell_type": "markdown",
   "metadata": {},
   "source": [
    "### Item "
   ]
  },
  {
   "cell_type": "markdown",
   "metadata": {},
   "source": [
    "Let's write an item class now -- we want it to hold the name and quantity.  \n",
    "\n",
    "You should have the following features:\n",
    "\n",
    "* The name should be something in our inventory\n",
    "\n",
    "* Our shopping cart will include a list of all the items we want to buy, so we want to be able to check for duplicates.  Implement the equal test, `==`, using `__eq__`\n",
    "\n",
    "* We'll want to consolidate duplicates, so implement the `+` operator, using `__add__` so we can add items together in our shopping cart.  Note, add should raise a ValueError if you try to add two `Items` that don't have the same name.\n",
    "\n",
    "Here's a start:"
   ]
  },
  {
   "cell_type": "code",
   "execution_count": 45,
   "metadata": {},
   "outputs": [],
   "source": [
    "class Item:\n",
    "    \"\"\" an item to buy \"\"\"\n",
    "    \n",
    "    def __init__(self, name, quantity=1):\n",
    "        \"\"\"keep track of an item that is in our inventory\"\"\"\n",
    "        if name not in INVENTORY:\n",
    "            raise ValueError(\"invalid item name\")\n",
    "        self.name = name\n",
    "        self.quantity = quantity\n",
    "        \n",
    "    def __repr__(self):\n",
    "        return \"{}: {}\".format(self.name, self.quantity)\n",
    "        \n",
    "    def __eq__(self, other):\n",
    "        \"\"\"check if the items have the same name\"\"\"\n",
    "        return self.name == other.name\n",
    "    \n",
    "    def __add__(self, other):\n",
    "        \"\"\"add two items together if they are the same type\"\"\"\n",
    "        if self.name == other.name:\n",
    "            return Item(self.name, self.quantity + other.quantity)\n",
    "        else:\n",
    "            raise ValueError(\"names don't match\")"
   ]
  },
  {
   "cell_type": "markdown",
   "metadata": {},
   "source": [
    "Here are some tests your code should pass:"
   ]
  },
  {
   "cell_type": "code",
   "execution_count": 46,
   "metadata": {},
   "outputs": [],
   "source": [
    "a = Item(\"apple\", 10)\n",
    "b = Item(\"banana\", 20)"
   ]
  },
  {
   "cell_type": "code",
   "execution_count": 47,
   "metadata": {},
   "outputs": [],
   "source": [
    "c = Item(\"apple\", 20)"
   ]
  },
  {
   "cell_type": "code",
   "execution_count": 49,
   "metadata": {},
   "outputs": [],
   "source": [
    "# won't work\n",
    "#a + b"
   ]
  },
  {
   "cell_type": "code",
   "execution_count": 50,
   "metadata": {},
   "outputs": [
    {
     "name": "stdout",
     "output_type": "stream",
     "text": [
      "apple: 30\n"
     ]
    }
   ],
   "source": [
    "# will work\n",
    "a += c\n",
    "print(a)"
   ]
  },
  {
   "cell_type": "code",
   "execution_count": 52,
   "metadata": {},
   "outputs": [],
   "source": [
    "#d = Item(\"dog\")"
   ]
  },
  {
   "cell_type": "code",
   "execution_count": 53,
   "metadata": {},
   "outputs": [
    {
     "data": {
      "text/plain": [
       "False"
      ]
     },
     "execution_count": 53,
     "metadata": {},
     "output_type": "execute_result"
    }
   ],
   "source": [
    "# should be False\n",
    "a == b"
   ]
  },
  {
   "cell_type": "code",
   "execution_count": 54,
   "metadata": {},
   "outputs": [
    {
     "data": {
      "text/plain": [
       "True"
      ]
     },
     "execution_count": 54,
     "metadata": {},
     "output_type": "execute_result"
    }
   ],
   "source": [
    "# should be True -- they have the same name\n",
    "a == c"
   ]
  },
  {
   "cell_type": "markdown",
   "metadata": {},
   "source": [
    "How do they behave in a list?"
   ]
  },
  {
   "cell_type": "code",
   "execution_count": 55,
   "metadata": {},
   "outputs": [
    {
     "data": {
      "text/plain": [
       "[apple: 30, banana: 20]"
      ]
     },
     "execution_count": 55,
     "metadata": {},
     "output_type": "execute_result"
    }
   ],
   "source": [
    "items = []\n",
    "items.append(a)\n",
    "items.append(b)\n",
    "items"
   ]
  },
  {
   "cell_type": "code",
   "execution_count": 56,
   "metadata": {},
   "outputs": [
    {
     "data": {
      "text/plain": [
       "True"
      ]
     },
     "execution_count": 56,
     "metadata": {},
     "output_type": "execute_result"
    }
   ],
   "source": [
    "# should be True -- they have the same name\n",
    "c in items"
   ]
  },
  {
   "cell_type": "markdown",
   "metadata": {},
   "source": [
    "### ShoppingCart"
   ]
  },
  {
   "cell_type": "markdown",
   "metadata": {},
   "source": [
    "Now we want to create a shopping cart.  The main thing it will do is hold a list of items."
   ]
  },
  {
   "cell_type": "code",
   "execution_count": 57,
   "metadata": {},
   "outputs": [],
   "source": [
    "class ShoppingCart:\n",
    "    \n",
    "    def __init__(self):\n",
    "        # the list of items we control\n",
    "        self.items = []\n",
    "        \n",
    "    def subtotal(self):\n",
    "        \"\"\" return a subtotal of our items \"\"\"\n",
    "        pass\n",
    "\n",
    "    def add(self, name, quantity):\n",
    "        \"\"\" add an item to our cart -- the an item of the same name already\n",
    "        exists, then increment the quantity.  Otherwise, add a new item\n",
    "        to the cart with the desired quantity.\"\"\"\n",
    "        pass\n",
    "        \n",
    "    def remove(self, name):\n",
    "        \"\"\" remove all of item name from the cart \"\"\"\n",
    "        pass\n",
    "        \n",
    "    def report(self):\n",
    "        \"\"\" print a summary of the cart \"\"\"\n",
    "        for item in self.items:\n",
    "            print(f\"{item.name} : {item.quantity}\")"
   ]
  },
  {
   "cell_type": "markdown",
   "metadata": {},
   "source": [
    "Here are some tests"
   ]
  },
  {
   "cell_type": "code",
   "execution_count": 58,
   "metadata": {},
   "outputs": [],
   "source": [
    "sc = ShoppingCart()\n",
    "sc.add(\"orange\", 19)"
   ]
  },
  {
   "cell_type": "code",
   "execution_count": 59,
   "metadata": {},
   "outputs": [],
   "source": [
    "sc.add(\"apple\", 2)"
   ]
  },
  {
   "cell_type": "code",
   "execution_count": 60,
   "metadata": {},
   "outputs": [],
   "source": [
    "sc.report()"
   ]
  },
  {
   "cell_type": "code",
   "execution_count": 61,
   "metadata": {},
   "outputs": [],
   "source": [
    "sc.add(\"apple\", 9)"
   ]
  },
  {
   "cell_type": "code",
   "execution_count": 62,
   "metadata": {},
   "outputs": [],
   "source": [
    "# apple should only be listed once in the report, with a quantity of 11\n",
    "sc.report()"
   ]
  },
  {
   "cell_type": "code",
   "execution_count": 63,
   "metadata": {},
   "outputs": [],
   "source": [
    "sc.subtotal()"
   ]
  },
  {
   "cell_type": "code",
   "execution_count": 64,
   "metadata": {},
   "outputs": [],
   "source": [
    "sc.remove(\"apple\")"
   ]
  },
  {
   "cell_type": "code",
   "execution_count": 65,
   "metadata": {},
   "outputs": [],
   "source": [
    "# apple should no longer be listed\n",
    "sc.report()"
   ]
  },
  {
   "cell_type": "markdown",
   "metadata": {},
   "source": [
    "## Q9: Poker odds"
   ]
  },
  {
   "cell_type": "markdown",
   "metadata": {},
   "source": [
    "Use the deck of cards class from the notebook we worked through class to write a _Monte Carlo_ code that plays a lot of hands of straight poker (like 100,000).  Count how many of these hands has a particular poker hand (like 3-of-a-kind).  The ratio of # of hands with 3-of-a-kind to total hands is an approximation to the odds of getting a 3-of-a-kind in poker.\n",
    "\n",
    "### Bonus: \n",
    "Just to practice modules, write that into a `.py` file to allow you to import and reuse them here."
   ]
  },
  {
   "cell_type": "code",
   "execution_count": null,
   "metadata": {},
   "outputs": [],
   "source": []
  },
  {
   "cell_type": "markdown",
   "metadata": {},
   "source": [
    "## Q10: Tic-Tac-Toe again\n",
    "\n",
    "Revisit the tic-tac-toe game you developed in the functions exercises but now write it as a class with methods to do each of the main steps.  "
   ]
  },
  {
   "cell_type": "code",
   "execution_count": null,
   "metadata": {},
   "outputs": [],
   "source": []
  },
  {
   "cell_type": "markdown",
   "metadata": {},
   "source": [
    "## Q11: Rock-Paper-Scissors\n",
    "\n",
    "Implement a set of games of rock-paper-scissors against the computer.  \n",
    "\n",
    "  * Ask for input from the user (\"rock\", \"paper\", or \"scissors\") and the randomly select one of these for the computer's play.\n",
    "  * Announce who won.\n",
    "  * Keep playing until a player says that they no longer want to play.\n",
    "  * When all games are done, print out how many games were won by the player and by the computer "
   ]
  },
  {
   "cell_type": "code",
   "execution_count": 66,
   "metadata": {},
   "outputs": [
    {
     "name": "stdout",
     "output_type": "stream",
     "text": [
      "GAME 1:\n",
      "YOU WON :)\n",
      "\n",
      "\n",
      "GAME 2:\n",
      "YOU WON :)\n",
      "\n",
      "\n",
      "GAME 3:\n",
      "The match ended evenly\n",
      "\n",
      "\n",
      "--------------------------------\n",
      "Final result:\n",
      "Computer: 0\n",
      "User: 2\n"
     ]
    }
   ],
   "source": [
    "import random\n",
    "\n",
    "moves = [\"rock\", \"paper\", \"scissors\"] # winning condition is cyclic\n",
    "random.seed()\n",
    "my_move = None\n",
    "history = {\"PC\":0, \"USER\":0}\n",
    "game = 0\n",
    "while my_move != \"Esc\":\n",
    "    game += 1\n",
    "    print(f\"GAME {game}:\")\n",
    "    my_move = input(\"Make a move ('rock', 'paper' or 'scissors'). If you want to end the game write 'Esc'.\")\n",
    "    pc_move = random.choice(moves)\n",
    "\n",
    "    #print(f\"Computer: {pc_move}\\nUser: {my_move}\\n\")\n",
    "\n",
    "    if moves[(moves.index(pc_move)+1)%3] == my_move:\n",
    "        history[\"USER\"] += 1\n",
    "        print(\"YOU WON :)\")\n",
    "    elif moves[(moves.index(pc_move)-1)%3] == my_move:\n",
    "        history[\"PC\"] += 1\n",
    "        print(\"YOU LOST :(\")\n",
    "    else:\n",
    "        print(\"The match ended evenly\")\n",
    "\n",
    "    print(\"\\n\")\n",
    "\n",
    "print(f\"--------------------------------\\nFinal result:\\nComputer: {history['PC']}\\nUser: {history['USER']}\")\n"
   ]
  },
  {
   "cell_type": "markdown",
   "metadata": {},
   "source": [
    "It can be made quantum..."
   ]
  },
  {
   "cell_type": "code",
   "execution_count": null,
   "metadata": {},
   "outputs": [],
   "source": []
  },
  {
   "cell_type": "markdown",
   "metadata": {},
   "source": [
    "## Q12: Pascal's triangle\n",
    "\n",
    "Pascal's triangle is created such that each layer has 1 more element than the previous, with `1`s on the side and in the interior, the numbers are the sum of the two above it, e.g.,:\n",
    "```\n",
    "            1\n",
    "          1   1\n",
    "        1   2   1\n",
    "      1   3   3   1\n",
    "    1   4   6   4   1\n",
    "  1   5   10  10  5   1\n",
    "```\n",
    "\n",
    "1. Write a function to return the first `n` rows of Pascal's triangle.  The return should be a list of length `n`, with each element itself a list containing the numbers for that row.\n",
    "2. Write a function to print out Pascal's triangle with proper formatting, so the numbers in each row are centered between the ones in the row above"
   ]
  },
  {
   "cell_type": "code",
   "execution_count": 67,
   "metadata": {},
   "outputs": [
    {
     "data": {
      "text/plain": [
       "[[1],\n",
       " [1, 1],\n",
       " [1, 2, 1],\n",
       " [1, 3, 3, 1],\n",
       " [1, 4, 6, 4, 1],\n",
       " [1, 5, 10, 10, 5, 1],\n",
       " [1, 6, 15, 20, 15, 6, 1],\n",
       " [1, 7, 21, 35, 35, 21, 7, 1],\n",
       " [1, 8, 28, 56, 70, 56, 28, 8, 1],\n",
       " [1, 9, 36, 84, 126, 126, 84, 36, 9, 1],\n",
       " [1, 10, 45, 120, 210, 252, 210, 120, 45, 10, 1],\n",
       " [1, 11, 55, 165, 330, 462, 462, 330, 165, 55, 11, 1],\n",
       " [1, 12, 66, 220, 495, 792, 924, 792, 495, 220, 66, 12, 1],\n",
       " [1, 13, 78, 286, 715, 1287, 1716, 1716, 1287, 715, 286, 78, 13, 1],\n",
       " [1, 14, 91, 364, 1001, 2002, 3003, 3432, 3003, 2002, 1001, 364, 91, 14, 1]]"
      ]
     },
     "execution_count": 67,
     "metadata": {},
     "output_type": "execute_result"
    }
   ],
   "source": [
    "def add_row(triangle):\n",
    "    last_row = triangle[-1]\n",
    "    new_row = [1,1] # extrema already known\n",
    "    for j in range(1, len(last_row)):\n",
    "        new_row.insert(j, last_row[j-1]+last_row[j])\n",
    "    triangle.append(new_row)\n",
    "\n",
    "def pascal_triangle(n_rows):\n",
    "    tr = [[1]]\n",
    "    for n in range(n_rows-1):\n",
    "        add_row(tr)\n",
    "    return tr\n",
    "\n",
    "tr = pascal_triangle(15)\n",
    "tr"
   ]
  },
  {
   "cell_type": "code",
   "execution_count": 68,
   "metadata": {},
   "outputs": [
    {
     "name": "stdout",
     "output_type": "stream",
     "text": [
      "                                           1    \n",
      "                                        1     1    \n",
      "                                     1     2     1    \n",
      "                                  1     3     3     1    \n",
      "                               1     4     6     4     1    \n",
      "                            1     5    10    10     5     1    \n",
      "                         1     6    15    20    15     6     1    \n",
      "                      1     7    21    35    35    21     7     1    \n",
      "                   1     8    28    56    70    56    28     8     1    \n",
      "                1     9    36    84    126   126   84    36     9     1    \n",
      "             1    10    45    120   210   252   210   120   45    10     1    \n",
      "          1    11    55    165   330   462   462   330   165   55    11     1    \n",
      "       1    12    66    220   495   792   924   792   495   220   66    12     1    \n",
      "    1    13    78    286   715   1287   1716   1716   1287   715   286   78    13     1    \n",
      " 1    14    91    364   1001   2002   3003   3432   3003   2002   1001   364   91    14     1    \n",
      "\n"
     ]
    }
   ],
   "source": [
    "def print_pascal(triangle):\n",
    "    size = len(triangle)\n",
    "    slot = \"{:^3}\"\n",
    "    message = \"\"\n",
    "    for j in range(size):\n",
    "        tr_row = triangle[j]\n",
    "        length = len(tr_row) # tells us if the row is even or odd\n",
    "        row = \"\"\n",
    "        for _ in range((2*size-length-j)//2):\n",
    "            row += slot.format(\" \")\n",
    "        for i in range(length):\n",
    "            row += slot.format(tr_row[i])\n",
    "            row += slot.format(\" \")\n",
    "        \n",
    "        message += row+'\\n'\n",
    "    print(message)\n",
    "\n",
    "print_pascal(tr)\n",
    "    "
   ]
  },
  {
   "cell_type": "markdown",
   "metadata": {},
   "source": [
    "## Q13: Calendar events\n",
    "\n",
    "We want to keep a schedule of events.  We will do this by creating a class called `Day`.  It is sketched out below.  A `Day` holds a list of events and has methods that allow you to add an delete events.  Our events will be instances of a class `Event`, which holds the time, location, and description of the event.\n",
    "\n",
    "Finally, we can keep track of a list of all the `Day`s for which we have events to make our schedule.\n",
    "\n",
    "Fill in these classes and write some code to demonstrate their use:\n",
    "\n",
    "  * Create a full week of days in your calendar\n",
    "  * Add an event every day at noon called \"lunch\"\n",
    "  * Randomly add some other events to fill out your calendar\n",
    "  * Write some code that tells you the start time of your first meeting and the end time of your last meeting (this is the length of your work day)"
   ]
  },
  {
   "cell_type": "code",
   "execution_count": 69,
   "metadata": {},
   "outputs": [],
   "source": [
    "class Day:\n",
    "    \"\"\"a single day keeping track of the events scheduled\"\"\"\n",
    "    def __init__(month, day, year):\n",
    "        # store the month, day, and year as data in the class\n",
    "        \n",
    "        # keep track of the events\n",
    "        self.events = []\n",
    "    \n",
    "    def add_event(name, time=None, location=None):\n",
    "        pass\n",
    "    \n",
    "    def delete_event(name):\n",
    "        pass\n",
    "    \n",
    "    \n",
    "class Event:\n",
    "    \"\"\"a single event in our calendar\"\"\"\n",
    "    def __init__(name, time=9, location=None, duration=1):\n",
    "        self.name = name\n",
    "        self.time = time\n",
    "        self.location = location\n",
    "        self.duration = duration"
   ]
  },
  {
   "cell_type": "code",
   "execution_count": null,
   "metadata": {},
   "outputs": [],
   "source": []
  },
  {
   "cell_type": "code",
   "execution_count": null,
   "metadata": {},
   "outputs": [],
   "source": []
  }
 ],
 "metadata": {
  "kernelspec": {
   "display_name": "Python 3",
   "language": "python",
   "name": "python3"
  },
  "language_info": {
   "codemirror_mode": {
    "name": "ipython",
    "version": 3
   },
   "file_extension": ".py",
   "mimetype": "text/x-python",
   "name": "python",
   "nbconvert_exporter": "python",
   "pygments_lexer": "ipython3",
   "version": "3.11.6"
  }
 },
 "nbformat": 4,
 "nbformat_minor": 2
}
