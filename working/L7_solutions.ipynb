{
 "cells": [
  {
   "cell_type": "code",
   "execution_count": 1,
   "metadata": {},
   "outputs": [],
   "source": [
    "import random\n",
    "import numpy as np\n",
    "from numba import njit\n",
    "import time\n",
    "import matplotlib.pyplot as plt\n",
    "import pandas as pd\n",
    "from tqdm import tqdm"
   ]
  },
  {
   "cell_type": "markdown",
   "metadata": {},
   "source": [
    "# Exercises\n",
    "\n",
    "For the exam prepare two of these exercises."
   ]
  },
  {
   "cell_type": "markdown",
   "metadata": {},
   "source": [
    "## Q1: The stock market\n",
    "\n",
    "(This is about numba)\n",
    "\n",
    "A Markov Chain is defined as a sequence of random variables where a parameter depends *only* on the preceding value. This is a crucial tool in statistics, widely used in science and beyond (economics for instance).\n",
    "\n",
    "For instance, the stock market has phases of growing prices (bull), dreasing prices (bear) and recession. This would be a Markov Chain model:\n",
    "\n",
    "![](https://upload.wikimedia.org/wikipedia/commons/thumb/9/95/Finance_Markov_chain_example_state_space.svg/400px-Finance_Markov_chain_example_state_space.svg.png)\n",
    "\n",
    "where the numbers on the arrows indicate the probabily that the next day will be in a given state.\n",
    "\n",
    "Your task is to simulate the stock market according to this rule. Start from a random state and simulate many many  iterations. If your code is right, the fraction of days in each state should converge. \n",
    "\n",
    "Implement a pure-python version and a numba version, and compare speeds. \n"
   ]
  },
  {
   "cell_type": "code",
   "execution_count": null,
   "metadata": {},
   "outputs": [],
   "source": []
  },
  {
   "cell_type": "markdown",
   "metadata": {},
   "source": [
    "---"
   ]
  },
  {
   "cell_type": "markdown",
   "metadata": {},
   "source": [
    "Very basic implementation just to see the bare code"
   ]
  },
  {
   "cell_type": "code",
   "execution_count": 2,
   "metadata": {},
   "outputs": [],
   "source": [
    "states = [\"bull\", \"bear\", \"stagnant\"]\n",
    "\n",
    "def evolve_market(init_state, n_iters):\n",
    "    h = [init_state]\n",
    "    for _ in range(int(n_iters)):\n",
    "        rv = random.random()\n",
    "        today = h[-1]\n",
    "        if today == \"bull\":\n",
    "            if rv < 0.1:\n",
    "                if rv < 0.025:\n",
    "                    h.append( \"stagnant\" )\n",
    "                else:\n",
    "                    h.append( \"bear\" )\n",
    "            else:\n",
    "                h.append( \"bull\" )\n",
    "        elif today == \"bear\":\n",
    "            if rv < 0.2:\n",
    "                if rv < 0.15:\n",
    "                    h.append( \"bull\" )\n",
    "                else:\n",
    "                    h.append( \"stagnant\" )\n",
    "            else:\n",
    "                h.append( \"bear\" )\n",
    "        else:\n",
    "            if rv < 0.5:\n",
    "                if rv < 0.25:\n",
    "                    h.append( \"bear\" )\n",
    "                else:\n",
    "                    h.append( \"bull\" )\n",
    "            else:\n",
    "                h.append( \"stagnant\" )\n",
    "    return h\n",
    "\n",
    "c_evolve_market = njit(evolve_market)\n",
    "\n",
    "# run first time\n",
    "ignore = c_evolve_market(\"bull\", 1e5)"
   ]
  },
  {
   "cell_type": "code",
   "execution_count": 3,
   "metadata": {},
   "outputs": [
    {
     "name": "stdout",
     "output_type": "stream",
     "text": [
      "CPU times: user 10.8 ms, sys: 334 µs, total: 11.1 ms\n",
      "Wall time: 11 ms\n"
     ]
    },
    {
     "data": {
      "text/plain": [
       "{'bull': 62898, 'bear': 30852, 'stagnant': 6251}"
      ]
     },
     "execution_count": 3,
     "metadata": {},
     "output_type": "execute_result"
    }
   ],
   "source": [
    "%%time\n",
    "\n",
    "h = evolve_market(\"bull\", 1e5)\n",
    "\n",
    "res = dict((s, h.count(s)) for s in states)\n",
    "res"
   ]
  },
  {
   "cell_type": "code",
   "execution_count": 4,
   "metadata": {},
   "outputs": [
    {
     "name": "stdout",
     "output_type": "stream",
     "text": [
      "CPU times: user 15.4 ms, sys: 2.22 ms, total: 17.7 ms\n",
      "Wall time: 17.3 ms\n"
     ]
    },
    {
     "data": {
      "text/plain": [
       "{'bull': 62478, 'bear': 31310, 'stagnant': 6213}"
      ]
     },
     "execution_count": 4,
     "metadata": {},
     "output_type": "execute_result"
    }
   ],
   "source": [
    "%%time\n",
    "\n",
    "h = c_evolve_market(\"bull\", 1e5)\n",
    "\n",
    "res = dict((s, h.count(s)) for s in states)\n",
    "res"
   ]
  },
  {
   "cell_type": "markdown",
   "metadata": {},
   "source": [
    "There is no visible improvement... This might be due to the fact that the code is really bad so it is best to first clean it up:\n",
    "1. the states can be encoded into integers `0,1,2`, this is also convenient since they become indexes\n",
    "2. we can exploit the cyclic properties of the graph"
   ]
  },
  {
   "cell_type": "code",
   "execution_count": 5,
   "metadata": {},
   "outputs": [],
   "source": [
    "'''\n",
    "It can be seen as a directed graph where the market states are the vertices and the directed edges give the transition probability\n",
    "'''\n",
    "\n",
    "states = [0, 1, 2]        # [\"bull\", \"bear\", \"stagnant\"]\n",
    "\n",
    "'''\n",
    "The probabilities can be arranged into lists: each probability list has: \n",
    "    · the prob. of staying in the same state (index 0)\n",
    "    · the prob. of going to the state to the right (index 1) - cf. the `states` list\n",
    "    · the prob. of going to the state to the left (index 2 - OMITTED)\n",
    "'''\n",
    "p_bull = [0.9, 0.075]   # no need for third prob , 0.025] thanks to normalization\n",
    "p_bear = [0.8, 0.05]    # no need for third prob , 0.15] thanks to normalization\n",
    "p_stag = [0.5, 0.25]    # no need for third prob , 0.25] thanks to normalization\n",
    "edges = np.array([p_bull, p_bear, p_stag])"
   ]
  },
  {
   "cell_type": "code",
   "execution_count": 6,
   "metadata": {},
   "outputs": [],
   "source": [
    "def evolve_market(init_state, n_iters):\n",
    "    h = [init_state]\n",
    "    for _ in range(int(n_iters)):\n",
    "        rv = random.random()\n",
    "        today = h[-1]\n",
    "        probs = edges[today]\n",
    "        \n",
    "        if rv < (1 - probs[0]):\n",
    "            if rv < probs[1]:\n",
    "                h.append((today + 1)%3) # look at the right\n",
    "            else:\n",
    "                h.append((today + 2)%3) # look at the left\n",
    "        else:\n",
    "            h.append(today)\n",
    "    return h\n",
    "\n",
    "c_evolve_market = njit(evolve_market)\n",
    "\n",
    "# run first time\n",
    "ignore = c_evolve_market(0, 100)"
   ]
  },
  {
   "cell_type": "code",
   "execution_count": 7,
   "metadata": {},
   "outputs": [
    {
     "name": "stdout",
     "output_type": "stream",
     "text": [
      "CPU times: user 39.3 ms, sys: 6.35 ms, total: 45.6 ms\n",
      "Wall time: 44.5 ms\n"
     ]
    },
    {
     "data": {
      "text/plain": [
       "{0: 62890, 1: 30701, 2: 6410}"
      ]
     },
     "execution_count": 7,
     "metadata": {},
     "output_type": "execute_result"
    }
   ],
   "source": [
    "%%time\n",
    "\n",
    "h = evolve_market(0, 1e5)\n",
    "\n",
    "res = dict((s, h.count(s)) for s in states)\n",
    "res"
   ]
  },
  {
   "cell_type": "code",
   "execution_count": 8,
   "metadata": {},
   "outputs": [
    {
     "name": "stdout",
     "output_type": "stream",
     "text": [
      "CPU times: user 164 ms, sys: 2.7 ms, total: 167 ms\n",
      "Wall time: 167 ms\n"
     ]
    },
    {
     "data": {
      "text/plain": [
       "{0: 62598, 1: 31084, 2: 6319}"
      ]
     },
     "execution_count": 8,
     "metadata": {},
     "output_type": "execute_result"
    }
   ],
   "source": [
    "%%time\n",
    "\n",
    "h = c_evolve_market(0, 1e5)\n",
    "\n",
    "res = dict((s, h.count(s)) for s in states)\n",
    "res"
   ]
  },
  {
   "cell_type": "markdown",
   "metadata": {},
   "source": [
    "The non-numba version is slower than before probably for the `%` operation, but here we see a speedup with the precompiled version!\n",
    "\n",
    "---\n",
    "\n",
    "Now we can see the convergence of the counts of each state:"
   ]
  },
  {
   "cell_type": "code",
   "execution_count": 9,
   "metadata": {},
   "outputs": [
    {
     "name": "stderr",
     "output_type": "stream",
     "text": [
      "100%|██████████| 100/100 [00:00<00:00, 267.47it/s]\n"
     ]
    }
   ],
   "source": [
    "df = pd.DataFrame(columns=[\"Iter\", \"Bull\", \"Bear\", \"Stagnant\"])\n",
    "\n",
    "random.seed(42)\n",
    "\n",
    "iterations = np.logspace(1, 6, 100, dtype=int) # from 10^1 to 10^6\n",
    "for iter in tqdm(iterations):\n",
    "    h = c_evolve_market(random.choice([0,1,2]), iter) # not efficient\n",
    "    res = dict((s, h.count(s)) for s in states) # get the counts\n",
    "    df.loc[len(df.index)] = [iter]+list(res.values()) # put the values into the dataframe saving also the number of iterations"
   ]
  },
  {
   "cell_type": "code",
   "execution_count": 10,
   "metadata": {},
   "outputs": [],
   "source": [
    "df.Bull /= df.Iter\n",
    "df.Bear /= df.Iter\n",
    "df.Stagnant /= df.Iter"
   ]
  },
  {
   "cell_type": "markdown",
   "metadata": {},
   "source": [
    "it should be done on a single run but this way I don't have to rewrite the `evolve_market` function"
   ]
  },
  {
   "cell_type": "code",
   "execution_count": 11,
   "metadata": {},
   "outputs": [
    {
     "data": {
      "image/png": "[encoded data removed]",
      "text/plain": [
       "<Figure size 640x480 with 1 Axes>"
      ]
     },
     "metadata": {},
     "output_type": "display_data"
    }
   ],
   "source": [
    "plt.title(\"Market states convergence\")\n",
    "\n",
    "plt.semilogx(df.Iter, df.Bull, label=\"Bull\")\n",
    "plt.semilogx(df.Iter, df.Bear, label=\"Bear\")\n",
    "plt.semilogx(df.Iter, df.Stagnant, label=\"Stagnant\")\n",
    "\n",
    "plt.xlabel(\"Iterations\")\n",
    "plt.ylabel(\"State population density\")\n",
    "\n",
    "plt.legend(loc='best', frameon=False)\n",
    "plt.show()"
   ]
  },
  {
   "cell_type": "code",
   "execution_count": 12,
   "metadata": {},
   "outputs": [
    {
     "data": {
      "text/html": [
       "<div>\n",
       "<style scoped>\n",
       "    .dataframe tbody tr th:only-of-type {\n",
       "        vertical-align: middle;\n",
       "    }\n",
       "\n",
       "    .dataframe tbody tr th {\n",
       "        vertical-align: top;\n",
       "    }\n",
       "\n",
       "    .dataframe thead th {\n",
       "        text-align: right;\n",
       "    }\n",
       "</style>\n",
       "<table border=\"1\" class=\"dataframe\">\n",
       "  <thead>\n",
       "    <tr style=\"text-align: right;\">\n",
       "      <th></th>\n",
       "      <th>Iter</th>\n",
       "      <th>Bull</th>\n",
       "      <th>Bear</th>\n",
       "      <th>Stagnant</th>\n",
       "    </tr>\n",
       "  </thead>\n",
       "  <tbody>\n",
       "    <tr>\n",
       "      <th>99</th>\n",
       "      <td>1000000</td>\n",
       "      <td>0.62571</td>\n",
       "      <td>0.311816</td>\n",
       "      <td>0.062475</td>\n",
       "    </tr>\n",
       "  </tbody>\n",
       "</table>\n",
       "</div>"
      ],
      "text/plain": [
       "       Iter     Bull      Bear  Stagnant\n",
       "99  1000000  0.62571  0.311816  0.062475"
      ]
     },
     "execution_count": 12,
     "metadata": {},
     "output_type": "execute_result"
    }
   ],
   "source": [
    "# convergence values\n",
    "df.tail(1)"
   ]
  },
  {
   "cell_type": "markdown",
   "metadata": {},
   "source": [
    "## Q3: Scaling\n",
    "\n",
    "(This is about multiprocessing)\n",
    "\n",
    "The [\"scaling\"](https://hpc-wiki.info/hpc/Scaling) of a code refers to its performance of as a function of the number of cores adopted. \n",
    "\n",
    "- Define a computationally intensive task (something like an operation on two giant arrays with >1e7 numbers or, even better!, pick somethinbg from your research). \n",
    "- Make sure it's embarassingly parallel. \n",
    "- Implement a parallelization strategy using multiprocessing. \n",
    "- Plot the time the code takes as a function of the number of cores.\n",
    "- Figure out the number of cores in your CPU and make sure the plot extends both below and above this number.\n",
    "- Interpret the resulting features. \n",
    "- A perfect scaling result in straight line (linear dependency). How perfect is your scaling?"
   ]
  },
  {
   "cell_type": "markdown",
   "metadata": {},
   "source": [
    "### Important\n",
    "Numpy has some inner, semi-automatic parallelization functionalities. Some, but not all, numpy functions detect the number of CPUs in your machine and make good use of them. That's great for most applications, but when performing a scaling study you want to control the parallelization yourself and disable what's done by numpy's. The following forces numpy to use a single core.  "
   ]
  },
  {
   "cell_type": "code",
   "execution_count": 13,
   "metadata": {},
   "outputs": [
    {
     "name": "stdout",
     "output_type": "stream",
     "text": [
      "Build Dependencies:\n",
      "  blas:\n",
      "    detection method: pkgconfig\n",
      "    found: true\n",
      "    include directory: /usr/local/include\n",
      "    lib directory: /usr/local/lib\n",
      "    name: openblas64\n",
      "    openblas configuration: USE_64BITINT=1 DYNAMIC_ARCH=1 DYNAMIC_OLDER= NO_CBLAS=\n",
      "      NO_LAPACK= NO_LAPACKE= NO_AFFINITY=1 USE_OPENMP= HASWELL MAX_THREADS=2\n",
      "    pc file directory: /usr/local/lib/pkgconfig\n",
      "    version: 0.3.23.dev\n",
      "  lapack:\n",
      "    detection method: internal\n",
      "    found: true\n",
      "    include directory: unknown\n",
      "    lib directory: unknown\n",
      "    name: dep139755841617168\n",
      "    openblas configuration: unknown\n",
      "    pc file directory: unknown\n",
      "    version: 1.26.2\n",
      "Compilers:\n",
      "  c:\n",
      "    commands: cc\n",
      "    linker: ld.bfd\n",
      "    name: gcc\n",
      "    version: 10.2.1\n",
      "  c++:\n",
      "    commands: c++\n",
      "    linker: ld.bfd\n",
      "    name: gcc\n",
      "    version: 10.2.1\n",
      "  cython:\n",
      "    commands: cython\n",
      "    linker: cython\n",
      "    name: cython\n",
      "    version: 3.0.5\n",
      "Machine Information:\n",
      "  build:\n",
      "    cpu: x86_64\n",
      "    endian: little\n",
      "    family: x86_64\n",
      "    system: linux\n",
      "  host:\n",
      "    cpu: x86_64\n",
      "    endian: little\n",
      "    family: x86_64\n",
      "    system: linux\n",
      "Python Information:\n",
      "  path: /opt/python/cp311-cp311/bin/python\n",
      "  version: '3.11'\n",
      "SIMD Extensions:\n",
      "  baseline:\n",
      "  - SSE\n",
      "  - SSE2\n",
      "  - SSE3\n",
      "  found:\n",
      "  - SSSE3\n",
      "  - SSE41\n",
      "  - POPCNT\n",
      "  - SSE42\n",
      "  - AVX\n",
      "  - F16C\n",
      "  - FMA3\n",
      "  - AVX2\n",
      "  not found:\n",
      "  - AVX512F\n",
      "  - AVX512CD\n",
      "  - AVX512_KNL\n",
      "  - AVX512_KNM\n",
      "  - AVX512_SKX\n",
      "  - AVX512_CLX\n",
      "  - AVX512_CNL\n",
      "  - AVX512_ICL\n",
      "\n"
     ]
    }
   ],
   "source": [
    "import numpy as np\n",
    "np.__config__.show()\n",
    "import os\n",
    "os.environ['OPENBLAS_NUM_THREADS'] = '1'\n",
    "os.environ['MKL_NUM_THREADS'] = '1'"
   ]
  },
  {
   "cell_type": "code",
   "execution_count": 14,
   "metadata": {},
   "outputs": [],
   "source": [
    "import multiprocessing"
   ]
  },
  {
   "cell_type": "code",
   "execution_count": 15,
   "metadata": {},
   "outputs": [
    {
     "data": {
      "text/plain": [
       "16"
      ]
     },
     "execution_count": 15,
     "metadata": {},
     "output_type": "execute_result"
    }
   ],
   "source": [
    "multiprocessing.cpu_count()"
   ]
  },
  {
   "cell_type": "code",
   "execution_count": 16,
   "metadata": {},
   "outputs": [],
   "source": [
    "def fun(a,b,c):\n",
    "    time.sleep(1e-9)\n",
    "    return int(np.sqrt(a**b**c))"
   ]
  },
  {
   "cell_type": "code",
   "execution_count": 17,
   "metadata": {},
   "outputs": [],
   "source": [
    "N=int(1e5)\n",
    "a=np.linspace(1, 10, N, dtype=np.float64)\n",
    "b=np.linspace(1, 5, N)\n",
    "c=np.linspace(1, 2, N)"
   ]
  },
  {
   "cell_type": "code",
   "execution_count": 18,
   "metadata": {},
   "outputs": [
    {
     "name": "stderr",
     "output_type": "stream",
     "text": [
      "100%|██████████| 100000/100000 [00:06<00:00, 15724.15it/s]"
     ]
    },
    {
     "name": "stdout",
     "output_type": "stream",
     "text": [
      "CPU times: user 697 ms, sys: 317 ms, total: 1.01 s\n",
      "Wall time: 6.36 s\n"
     ]
    },
    {
     "name": "stderr",
     "output_type": "stream",
     "text": [
      "\n"
     ]
    }
   ],
   "source": [
    "%%time \n",
    "\n",
    "res1 = list(tqdm(map(fun, a,b,c), total=N))"
   ]
  },
  {
   "cell_type": "code",
   "execution_count": 19,
   "metadata": {},
   "outputs": [],
   "source": [
    "CPUS = 5\n",
    "# Now, this is much faster!\n",
    "parmap = multiprocessing.Pool(CPUS).starmap"
   ]
  },
  {
   "cell_type": "code",
   "execution_count": 20,
   "metadata": {},
   "outputs": [
    {
     "name": "stderr",
     "output_type": "stream",
     "text": [
      "100%|██████████| 100000/100000 [00:00<00:00, 962970.34it/s]"
     ]
    },
    {
     "name": "stdout",
     "output_type": "stream",
     "text": [
      "CPU times: user 635 ms, sys: 124 ms, total: 759 ms\n",
      "Wall time: 1.59 s\n"
     ]
    },
    {
     "name": "stderr",
     "output_type": "stream",
     "text": [
      "\n"
     ]
    }
   ],
   "source": [
    "%%time \n",
    "\n",
    "res2 = list(tqdm(parmap(fun, zip(a,b,c)), total=N))"
   ]
  },
  {
   "cell_type": "code",
   "execution_count": 21,
   "metadata": {},
   "outputs": [
    {
     "data": {
      "text/plain": [
       "True"
      ]
     },
     "execution_count": 21,
     "metadata": {},
     "output_type": "execute_result"
    }
   ],
   "source": [
    "res1 == res2"
   ]
  },
  {
   "cell_type": "code",
   "execution_count": 22,
   "metadata": {},
   "outputs": [],
   "source": [
    "history = []\n",
    "cpu_list = np.arange(1,17)\n",
    "for cpu in cpu_list:\n",
    "    parmap = multiprocessing.Pool(cpu).starmap\n",
    "    t1 = time.time()\n",
    "    res2 = list(parmap(fun, zip(a,b,c)))\n",
    "    t2 = time.time()\n",
    "    history.append(t2-t1)"
   ]
  },
  {
   "cell_type": "code",
   "execution_count": 23,
   "metadata": {},
   "outputs": [
    {
     "data": {
      "image/png": "[encoded data removed]",
      "text/plain": [
       "<Figure size 640x480 with 1 Axes>"
      ]
     },
     "metadata": {},
     "output_type": "display_data"
    }
   ],
   "source": [
    "plt.plot(cpu_list, history)\n",
    "plt.ylabel(\"Execution time (s)\")\n",
    "plt.xlabel(\"CPUs\")\n",
    "plt.show()"
   ]
  },
  {
   "cell_type": "code",
   "execution_count": null,
   "metadata": {},
   "outputs": [],
   "source": []
  }
 ],
 "metadata": {
  "kernelspec": {
   "display_name": "Python 3",
   "language": "python",
   "name": "python3"
  },
  "language_info": {
   "codemirror_mode": {
    "name": "ipython",
    "version": 3
   },
   "file_extension": ".py",
   "mimetype": "text/x-python",
   "name": "python",
   "nbconvert_exporter": "python",
   "pygments_lexer": "ipython3",
   "version": "3.11.6"
  }
 },
 "nbformat": 4,
 "nbformat_minor": 2
}
