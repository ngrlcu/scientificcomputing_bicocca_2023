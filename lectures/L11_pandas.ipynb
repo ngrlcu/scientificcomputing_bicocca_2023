{
 "cells": [
  {
   "cell_type": "markdown",
   "id": "056aa344",
   "metadata": {},
   "source": [
    "### Stay tuned...\n",
    "\n",
    "[pandas](https://pandas.pydata.org/) is another popular data-analysis library in Python. I hope to prepare some notes about pandas at some point...\n",
    "\n",
    "[This](https://pandas.pydata.org/docs/user_guide/10min.html) is a nice tutorial."
   ]
  },
  {
   "cell_type": "code",
   "execution_count": null,
   "id": "82163a7d",
   "metadata": {},
   "outputs": [],
   "source": []
  }
 ],
 "metadata": {
  "kernelspec": {
   "display_name": "Python 3 (ipykernel)",
   "language": "python",
   "name": "python3"
  },
  "language_info": {
   "codemirror_mode": {
    "name": "ipython",
    "version": 3
   },
   "file_extension": ".py",
   "mimetype": "text/x-python",
   "name": "python",
   "nbconvert_exporter": "python",
   "pygments_lexer": "ipython3",
   "version": "3.11.4"
  }
 },
 "nbformat": 4,
 "nbformat_minor": 5
}
